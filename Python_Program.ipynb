{
 "cells": [
  {
   "cell_type": "markdown",
   "id": "66d50fbc",
   "metadata": {},
   "source": [
    "## Basics of Python"
   ]
  },
  {
   "cell_type": "code",
   "execution_count": 27,
   "id": "3eac4f32",
   "metadata": {},
   "outputs": [
    {
     "name": "stdout",
     "output_type": "stream",
     "text": [
      "Hello Nilesh Darekar\n"
     ]
    }
   ],
   "source": [
    "print('Hello Nilesh Darekar')"
   ]
  },
  {
   "cell_type": "code",
   "execution_count": 4,
   "id": "53d3a1b6",
   "metadata": {},
   "outputs": [
    {
     "name": "stdout",
     "output_type": "stream",
     "text": [
      "Hello Nilesh Darekar \n",
      "Chemical Engineers \n",
      "How is your day going\n"
     ]
    }
   ],
   "source": [
    "print('Hello Nilesh Darekar \\nChemical Engineers \\nHow is your day going')"
   ]
  },
  {
   "cell_type": "code",
   "execution_count": 5,
   "id": "e958a0df",
   "metadata": {},
   "outputs": [
    {
     "name": "stdout",
     "output_type": "stream",
     "text": [
      "5\n"
     ]
    }
   ],
   "source": [
    "print(5)"
   ]
  },
  {
   "cell_type": "code",
   "execution_count": 6,
   "id": "44249504",
   "metadata": {},
   "outputs": [
    {
     "name": "stdout",
     "output_type": "stream",
     "text": [
      "5\n"
     ]
    }
   ],
   "source": [
    "print('5')"
   ]
  },
  {
   "cell_type": "code",
   "execution_count": 7,
   "id": "59a40d33",
   "metadata": {},
   "outputs": [
    {
     "data": {
      "text/plain": [
       "12345"
      ]
     },
     "execution_count": 7,
     "metadata": {},
     "output_type": "execute_result"
    }
   ],
   "source": [
    "# This is an example of an integer\n",
    "12345"
   ]
  },
  {
   "cell_type": "code",
   "execution_count": 8,
   "id": "ed63552d",
   "metadata": {},
   "outputs": [
    {
     "data": {
      "text/plain": [
       "1.0"
      ]
     },
     "execution_count": 8,
     "metadata": {},
     "output_type": "execute_result"
    }
   ],
   "source": [
    "# This is an exaqmple of float\n",
    "1.0"
   ]
  },
  {
   "cell_type": "code",
   "execution_count": 1,
   "id": "77d2a488",
   "metadata": {},
   "outputs": [
    {
     "data": {
      "text/plain": [
       "'5'"
      ]
     },
     "execution_count": 1,
     "metadata": {},
     "output_type": "execute_result"
    }
   ],
   "source": [
    "# The examples of string:\n",
    "'5'"
   ]
  },
  {
   "cell_type": "code",
   "execution_count": 2,
   "id": "f6c9e4f6",
   "metadata": {},
   "outputs": [
    {
     "data": {
      "text/plain": [
       "'5'"
      ]
     },
     "execution_count": 2,
     "metadata": {},
     "output_type": "execute_result"
    }
   ],
   "source": [
    "\"5\""
   ]
  },
  {
   "cell_type": "code",
   "execution_count": 4,
   "id": "c87c326f",
   "metadata": {},
   "outputs": [
    {
     "data": {
      "text/plain": [
       "True"
      ]
     },
     "execution_count": 4,
     "metadata": {},
     "output_type": "execute_result"
    }
   ],
   "source": [
    "# The examples of Boolean:\n",
    "True"
   ]
  },
  {
   "cell_type": "code",
   "execution_count": 5,
   "id": "1af77e23",
   "metadata": {},
   "outputs": [
    {
     "data": {
      "text/plain": [
       "False"
      ]
     },
     "execution_count": 5,
     "metadata": {},
     "output_type": "execute_result"
    }
   ],
   "source": [
    "False"
   ]
  },
  {
   "cell_type": "code",
   "execution_count": 6,
   "id": "8b506b04",
   "metadata": {},
   "outputs": [
    {
     "data": {
      "text/plain": [
       "int"
      ]
     },
     "execution_count": 6,
     "metadata": {},
     "output_type": "execute_result"
    }
   ],
   "source": [
    "type(6767564)"
   ]
  },
  {
   "cell_type": "code",
   "execution_count": 7,
   "id": "aa675ef1",
   "metadata": {},
   "outputs": [
    {
     "data": {
      "text/plain": [
       "float"
      ]
     },
     "execution_count": 7,
     "metadata": {},
     "output_type": "execute_result"
    }
   ],
   "source": [
    "type(545234.676435)"
   ]
  },
  {
   "cell_type": "code",
   "execution_count": 21,
   "id": "436bfd88",
   "metadata": {},
   "outputs": [
    {
     "data": {
      "text/plain": [
       "bool"
      ]
     },
     "execution_count": 21,
     "metadata": {},
     "output_type": "execute_result"
    }
   ],
   "source": [
    "type(True)"
   ]
  },
  {
   "cell_type": "code",
   "execution_count": 22,
   "id": "56210c0c",
   "metadata": {},
   "outputs": [
    {
     "data": {
      "text/plain": [
       "bool"
      ]
     },
     "execution_count": 22,
     "metadata": {},
     "output_type": "execute_result"
    }
   ],
   "source": [
    "type (False)"
   ]
  },
  {
   "cell_type": "code",
   "execution_count": 8,
   "id": "fc119d9e",
   "metadata": {},
   "outputs": [
    {
     "name": "stdout",
     "output_type": "stream",
     "text": [
      "<class 'int'>\n",
      "<class 'float'>\n",
      "<class 'str'>\n"
     ]
    }
   ],
   "source": [
    "print(type(5))\n",
    "print(type(5.0))\n",
    "print(type('5'))"
   ]
  },
  {
   "cell_type": "code",
   "execution_count": 9,
   "id": "6f76fa6f",
   "metadata": {},
   "outputs": [
    {
     "data": {
      "text/plain": [
       "45"
      ]
     },
     "execution_count": 9,
     "metadata": {},
     "output_type": "execute_result"
    }
   ],
   "source": [
    "#Mathematical Operations\n",
    "11+34"
   ]
  },
  {
   "cell_type": "code",
   "execution_count": 10,
   "id": "1d9339cb",
   "metadata": {},
   "outputs": [
    {
     "data": {
      "text/plain": [
       "-11"
      ]
     },
     "execution_count": 10,
     "metadata": {},
     "output_type": "execute_result"
    }
   ],
   "source": [
    "11-22"
   ]
  },
  {
   "cell_type": "code",
   "execution_count": 11,
   "id": "8ab42c89",
   "metadata": {},
   "outputs": [
    {
     "data": {
      "text/plain": [
       "22"
      ]
     },
     "execution_count": 11,
     "metadata": {},
     "output_type": "execute_result"
    }
   ],
   "source": [
    "11*2"
   ]
  },
  {
   "cell_type": "code",
   "execution_count": 12,
   "id": "68456b57",
   "metadata": {},
   "outputs": [
    {
     "data": {
      "text/plain": [
       "5.5"
      ]
     },
     "execution_count": 12,
     "metadata": {},
     "output_type": "execute_result"
    }
   ],
   "source": [
    "11/2"
   ]
  },
  {
   "cell_type": "code",
   "execution_count": 13,
   "id": "21b78156",
   "metadata": {},
   "outputs": [
    {
     "data": {
      "text/plain": [
       "4"
      ]
     },
     "execution_count": 13,
     "metadata": {},
     "output_type": "execute_result"
    }
   ],
   "source": [
    "2**2"
   ]
  },
  {
   "cell_type": "code",
   "execution_count": 26,
   "id": "605abd50",
   "metadata": {},
   "outputs": [
    {
     "data": {
      "text/plain": [
       "3"
      ]
     },
     "execution_count": 26,
     "metadata": {},
     "output_type": "execute_result"
    }
   ],
   "source": [
    "6//2 # Quotient"
   ]
  },
  {
   "cell_type": "code",
   "execution_count": 15,
   "id": "4def93ab",
   "metadata": {},
   "outputs": [
    {
     "data": {
      "text/plain": [
       "2.0"
      ]
     },
     "execution_count": 15,
     "metadata": {},
     "output_type": "execute_result"
    }
   ],
   "source": [
    "4/2"
   ]
  },
  {
   "cell_type": "code",
   "execution_count": 16,
   "id": "45b30d54",
   "metadata": {},
   "outputs": [],
   "source": [
    "#String"
   ]
  },
  {
   "cell_type": "code",
   "execution_count": 17,
   "id": "818bea42",
   "metadata": {},
   "outputs": [
    {
     "data": {
      "text/plain": [
       "'555'"
      ]
     },
     "execution_count": 17,
     "metadata": {},
     "output_type": "execute_result"
    }
   ],
   "source": [
    "'5'*3"
   ]
  },
  {
   "cell_type": "code",
   "execution_count": 18,
   "id": "331ffa8d",
   "metadata": {},
   "outputs": [
    {
     "data": {
      "text/plain": [
       "'Chemical Engineer'"
      ]
     },
     "execution_count": 18,
     "metadata": {},
     "output_type": "execute_result"
    }
   ],
   "source": [
    "'Chemical' + ' Engineer'"
   ]
  },
  {
   "cell_type": "code",
   "execution_count": 20,
   "id": "bb97490d",
   "metadata": {},
   "outputs": [
    {
     "data": {
      "text/plain": [
       "'Engineer Engineer Engineer '"
      ]
     },
     "execution_count": 20,
     "metadata": {},
     "output_type": "execute_result"
    }
   ],
   "source": [
    "'Engineer '*3"
   ]
  },
  {
   "cell_type": "code",
   "execution_count": 23,
   "id": "d74d7002",
   "metadata": {},
   "outputs": [
    {
     "data": {
      "text/plain": [
       "True"
      ]
     },
     "execution_count": 23,
     "metadata": {},
     "output_type": "execute_result"
    }
   ],
   "source": [
    "100>50"
   ]
  },
  {
   "cell_type": "code",
   "execution_count": 24,
   "id": "f6e2f606",
   "metadata": {},
   "outputs": [
    {
     "data": {
      "text/plain": [
       "False"
      ]
     },
     "execution_count": 24,
     "metadata": {},
     "output_type": "execute_result"
    }
   ],
   "source": [
    "1>76"
   ]
  },
  {
   "cell_type": "code",
   "execution_count": 25,
   "id": "1769103a",
   "metadata": {},
   "outputs": [
    {
     "data": {
      "text/plain": [
       "True"
      ]
     },
     "execution_count": 25,
     "metadata": {},
     "output_type": "execute_result"
    }
   ],
   "source": [
    "10==10"
   ]
  },
  {
   "cell_type": "markdown",
   "id": "329b6bf7",
   "metadata": {},
   "source": [
    "## Function Calling"
   ]
  },
  {
   "cell_type": "code",
   "execution_count": 28,
   "id": "dfd2a3ea",
   "metadata": {},
   "outputs": [],
   "source": [
    "porosity_of_core = 0.5"
   ]
  },
  {
   "cell_type": "code",
   "execution_count": 29,
   "id": "689b27fa",
   "metadata": {},
   "outputs": [
    {
     "data": {
      "text/plain": [
       "0.5"
      ]
     },
     "execution_count": 29,
     "metadata": {},
     "output_type": "execute_result"
    }
   ],
   "source": [
    "porosity_of_core"
   ]
  },
  {
   "cell_type": "code",
   "execution_count": 30,
   "id": "4f46a0ea",
   "metadata": {},
   "outputs": [
    {
     "ename": "SyntaxError",
     "evalue": "invalid syntax (<ipython-input-30-5fcd96d339cc>, line 1)",
     "output_type": "error",
     "traceback": [
      "\u001b[1;36m  File \u001b[1;32m\"<ipython-input-30-5fcd96d339cc>\"\u001b[1;36m, line \u001b[1;32m1\u001b[0m\n\u001b[1;33m    1a = 58\u001b[0m\n\u001b[1;37m     ^\u001b[0m\n\u001b[1;31mSyntaxError\u001b[0m\u001b[1;31m:\u001b[0m invalid syntax\n"
     ]
    }
   ],
   "source": [
    "1a = 58"
   ]
  },
  {
   "cell_type": "code",
   "execution_count": 31,
   "id": "b82bf37f",
   "metadata": {},
   "outputs": [],
   "source": [
    "a1 = 5"
   ]
  },
  {
   "cell_type": "code",
   "execution_count": 32,
   "id": "feaa42e7",
   "metadata": {},
   "outputs": [
    {
     "data": {
      "text/plain": [
       "5"
      ]
     },
     "execution_count": 32,
     "metadata": {},
     "output_type": "execute_result"
    }
   ],
   "source": [
    "a1"
   ]
  },
  {
   "cell_type": "code",
   "execution_count": 33,
   "id": "9b916cf6",
   "metadata": {},
   "outputs": [
    {
     "name": "stdout",
     "output_type": "stream",
     "text": [
      "0.5\n"
     ]
    }
   ],
   "source": [
    "print(porosity_of_core)"
   ]
  },
  {
   "cell_type": "code",
   "execution_count": 34,
   "id": "036a9b99",
   "metadata": {},
   "outputs": [
    {
     "name": "stdout",
     "output_type": "stream",
     "text": [
      "2.5\n"
     ]
    }
   ],
   "source": [
    "print(porosity_of_core*5)"
   ]
  },
  {
   "cell_type": "code",
   "execution_count": 35,
   "id": "f66c33f1",
   "metadata": {},
   "outputs": [],
   "source": [
    "# Complex Numbers "
   ]
  },
  {
   "cell_type": "code",
   "execution_count": 36,
   "id": "a57dc935",
   "metadata": {},
   "outputs": [],
   "source": [
    "c = 5+45j"
   ]
  },
  {
   "cell_type": "code",
   "execution_count": 37,
   "id": "d0e85906",
   "metadata": {},
   "outputs": [
    {
     "data": {
      "text/plain": [
       "(5+45j)"
      ]
     },
     "execution_count": 37,
     "metadata": {},
     "output_type": "execute_result"
    }
   ],
   "source": [
    "c"
   ]
  },
  {
   "cell_type": "code",
   "execution_count": 38,
   "id": "ba7f60b3",
   "metadata": {},
   "outputs": [
    {
     "data": {
      "text/plain": [
       "45.0"
      ]
     },
     "execution_count": 38,
     "metadata": {},
     "output_type": "execute_result"
    }
   ],
   "source": [
    "c.imag"
   ]
  },
  {
   "cell_type": "code",
   "execution_count": 39,
   "id": "22d5c92d",
   "metadata": {},
   "outputs": [
    {
     "data": {
      "text/plain": [
       "5.0"
      ]
     },
     "execution_count": 39,
     "metadata": {},
     "output_type": "execute_result"
    }
   ],
   "source": [
    "c.real"
   ]
  },
  {
   "cell_type": "code",
   "execution_count": 40,
   "id": "fec2c654",
   "metadata": {},
   "outputs": [
    {
     "data": {
      "text/plain": [
       "complex"
      ]
     },
     "execution_count": 40,
     "metadata": {},
     "output_type": "execute_result"
    }
   ],
   "source": [
    "type(c)"
   ]
  },
  {
   "cell_type": "code",
   "execution_count": 41,
   "id": "f4802095",
   "metadata": {},
   "outputs": [
    {
     "name": "stdout",
     "output_type": "stream",
     "text": [
      "25\n"
     ]
    },
    {
     "data": {
      "text/plain": [
       "'25'"
      ]
     },
     "execution_count": 41,
     "metadata": {},
     "output_type": "execute_result"
    }
   ],
   "source": [
    "input()"
   ]
  },
  {
   "cell_type": "code",
   "execution_count": 8,
   "id": "f093236a",
   "metadata": {},
   "outputs": [
    {
     "name": "stdout",
     "output_type": "stream",
     "text": [
      "Enter the value of porosity: 0.1\n"
     ]
    }
   ],
   "source": [
    "porosity = input('Enter the value of porosity: ')\n"
   ]
  },
  {
   "cell_type": "code",
   "execution_count": 9,
   "id": "268aad0d",
   "metadata": {},
   "outputs": [
    {
     "data": {
      "text/plain": [
       "'0.1'"
      ]
     },
     "execution_count": 9,
     "metadata": {},
     "output_type": "execute_result"
    }
   ],
   "source": [
    "porosity"
   ]
  },
  {
   "cell_type": "code",
   "execution_count": 10,
   "id": "de8a9340",
   "metadata": {},
   "outputs": [
    {
     "data": {
      "text/plain": [
       "'0.10.10.10.10.10.10.10.10.10.1'"
      ]
     },
     "execution_count": 10,
     "metadata": {},
     "output_type": "execute_result"
    }
   ],
   "source": [
    "porosity*10"
   ]
  },
  {
   "cell_type": "markdown",
   "id": "83e3acf4",
   "metadata": {},
   "source": [
    "## String Formation"
   ]
  },
  {
   "cell_type": "code",
   "execution_count": 29,
   "id": "08e9bb4b",
   "metadata": {},
   "outputs": [
    {
     "name": "stdout",
     "output_type": "stream",
     "text": [
      "Enter the Formation porosity: 0.3\n",
      " Enter the formation's permeability(md): 40\n"
     ]
    }
   ],
   "source": [
    "porosity = float(input('Enter the Formation porosity: '))\n",
    "permeability = float(input(' Enter the formation\\'s permeability(md): '))"
   ]
  },
  {
   "cell_type": "code",
   "execution_count": 22,
   "id": "42403b9e",
   "metadata": {},
   "outputs": [],
   "source": [
    "a = 'Hello'"
   ]
  },
  {
   "cell_type": "code",
   "execution_count": 23,
   "id": "aa6cca93",
   "metadata": {},
   "outputs": [
    {
     "data": {
      "text/plain": [
       "'Hello'"
      ]
     },
     "execution_count": 23,
     "metadata": {},
     "output_type": "execute_result"
    }
   ],
   "source": [
    "a"
   ]
  },
  {
   "cell_type": "code",
   "execution_count": 24,
   "id": "394bffba",
   "metadata": {},
   "outputs": [
    {
     "data": {
      "text/plain": [
       "'Formation Porosity: {porosity}'"
      ]
     },
     "execution_count": 24,
     "metadata": {},
     "output_type": "execute_result"
    }
   ],
   "source": [
    "'Formation Porosity: {porosity}'"
   ]
  },
  {
   "cell_type": "code",
   "execution_count": 25,
   "id": "98be155d",
   "metadata": {},
   "outputs": [
    {
     "data": {
      "text/plain": [
       "'Formation Porosity: 0.3'"
      ]
     },
     "execution_count": 25,
     "metadata": {},
     "output_type": "execute_result"
    }
   ],
   "source": [
    "f'Formation Porosity: {porosity}'"
   ]
  },
  {
   "cell_type": "code",
   "execution_count": 31,
   "id": "96e8cde0",
   "metadata": {},
   "outputs": [
    {
     "data": {
      "text/plain": [
       "'Formation Permeability: 40.0'"
      ]
     },
     "execution_count": 31,
     "metadata": {},
     "output_type": "execute_result"
    }
   ],
   "source": [
    "f'Formation Permeability: {permeability}'"
   ]
  },
  {
   "cell_type": "code",
   "execution_count": 38,
   "id": "f82a8ea8",
   "metadata": {},
   "outputs": [
    {
     "ename": "TypeError",
     "evalue": "'str' object is not callable",
     "output_type": "error",
     "traceback": [
      "\u001b[1;31m---------------------------------------------------------------------------\u001b[0m",
      "\u001b[1;31mTypeError\u001b[0m                                 Traceback (most recent call last)",
      "\u001b[1;32m<ipython-input-38-fce02f1c1fb8>\u001b[0m in \u001b[0;36m<module>\u001b[1;34m\u001b[0m\n\u001b[1;32m----> 1\u001b[1;33m \u001b[0mprint\u001b[0m\u001b[1;33m(\u001b[0m\u001b[1;34m'Formation porosity is {} and permeability is {}'\u001b[0m\u001b[1;33m.\u001b[0m\u001b[0mformat\u001b[0m\u001b[1;33m(\u001b[0m\u001b[0mporosity\u001b[0m\u001b[1;33m,\u001b[0m\u001b[0mpermeability\u001b[0m\u001b[1;33m)\u001b[0m\u001b[1;33m)\u001b[0m\u001b[1;33m\u001b[0m\u001b[1;33m\u001b[0m\u001b[0m\n\u001b[0m",
      "\u001b[1;31mTypeError\u001b[0m: 'str' object is not callable"
     ]
    }
   ],
   "source": [
    "print('Formation porosity is {} and permeability is {}'.format(porosity,permeability))"
   ]
  },
  {
   "cell_type": "code",
   "execution_count": 37,
   "id": "b2546100",
   "metadata": {},
   "outputs": [
    {
     "ename": "TypeError",
     "evalue": "'str' object is not callable",
     "output_type": "error",
     "traceback": [
      "\u001b[1;31m---------------------------------------------------------------------------\u001b[0m",
      "\u001b[1;31mTypeError\u001b[0m                                 Traceback (most recent call last)",
      "\u001b[1;32m<ipython-input-37-2fd6a753a5a2>\u001b[0m in \u001b[0;36m<module>\u001b[1;34m\u001b[0m\n\u001b[1;32m----> 1\u001b[1;33m \u001b[0mprint\u001b[0m\u001b[1;33m(\u001b[0m\u001b[1;34m'FOrmation porosity is'\u001b[0m\u001b[1;33m,\u001b[0m \u001b[0mporosity\u001b[0m\u001b[1;33m,\u001b[0m \u001b[1;34m'and permeability is'\u001b[0m\u001b[1;33m,\u001b[0m \u001b[0mpermeability\u001b[0m\u001b[1;33m)\u001b[0m\u001b[1;33m\u001b[0m\u001b[1;33m\u001b[0m\u001b[0m\n\u001b[0m",
      "\u001b[1;31mTypeError\u001b[0m: 'str' object is not callable"
     ]
    }
   ],
   "source": [
    "print('FOrmation porosity is', porosity, 'and permeability is', permeability)"
   ]
  },
  {
   "cell_type": "markdown",
   "id": "65b6551a",
   "metadata": {},
   "source": [
    "## List = Square bracket"
   ]
  },
  {
   "cell_type": "code",
   "execution_count": 39,
   "id": "fa0831c3",
   "metadata": {},
   "outputs": [],
   "source": [
    "perm = [12,34,45,78,0.8,0.12,0.5651,'Permeability','porosity']"
   ]
  },
  {
   "cell_type": "code",
   "execution_count": 40,
   "id": "1fc3b8b1",
   "metadata": {},
   "outputs": [
    {
     "data": {
      "text/plain": [
       "[12, 34, 45, 78, 0.8, 0.12, 0.5651, 'Permeability', 'porosity']"
      ]
     },
     "execution_count": 40,
     "metadata": {},
     "output_type": "execute_result"
    }
   ],
   "source": [
    "perm"
   ]
  },
  {
   "cell_type": "code",
   "execution_count": 41,
   "id": "b6e8d3e9",
   "metadata": {},
   "outputs": [
    {
     "data": {
      "text/plain": [
       "list"
      ]
     },
     "execution_count": 41,
     "metadata": {},
     "output_type": "execute_result"
    }
   ],
   "source": [
    "type(perm)\n"
   ]
  },
  {
   "cell_type": "code",
   "execution_count": 43,
   "id": "61794b8d",
   "metadata": {},
   "outputs": [
    {
     "data": {
      "text/plain": [
       "[12, 34, 45]"
      ]
     },
     "execution_count": 43,
     "metadata": {},
     "output_type": "execute_result"
    }
   ],
   "source": [
    "list((12,34,45))"
   ]
  },
  {
   "cell_type": "code",
   "execution_count": 46,
   "id": "0de0a618",
   "metadata": {},
   "outputs": [],
   "source": [
    "li = [1,2,3,[4,5,6],perm]"
   ]
  },
  {
   "cell_type": "code",
   "execution_count": 47,
   "id": "ce23adbb",
   "metadata": {},
   "outputs": [
    {
     "data": {
      "text/plain": [
       "[1,\n",
       " 2,\n",
       " 3,\n",
       " [4, 5, 6],\n",
       " [12, 34, 45, 78, 0.8, 0.12, 0.5651, 'Permeability', 'porosity']]"
      ]
     },
     "execution_count": 47,
     "metadata": {},
     "output_type": "execute_result"
    }
   ],
   "source": [
    "li"
   ]
  },
  {
   "cell_type": "code",
   "execution_count": 49,
   "id": "284c1abf",
   "metadata": {},
   "outputs": [
    {
     "data": {
      "text/plain": [
       "'Permeability'"
      ]
     },
     "execution_count": 49,
     "metadata": {},
     "output_type": "execute_result"
    }
   ],
   "source": [
    "li[4][7]"
   ]
  },
  {
   "cell_type": "code",
   "execution_count": 50,
   "id": "d1178c3c",
   "metadata": {},
   "outputs": [
    {
     "data": {
      "text/plain": [
       "'a'"
      ]
     },
     "execution_count": 50,
     "metadata": {},
     "output_type": "execute_result"
    }
   ],
   "source": [
    "li[4][7][5]"
   ]
  },
  {
   "cell_type": "code",
   "execution_count": 51,
   "id": "12c63b88",
   "metadata": {},
   "outputs": [
    {
     "data": {
      "text/plain": [
       "9"
      ]
     },
     "execution_count": 51,
     "metadata": {},
     "output_type": "execute_result"
    }
   ],
   "source": [
    "# Len for calculating length\n",
    "len(perm)"
   ]
  },
  {
   "cell_type": "code",
   "execution_count": 53,
   "id": "d56a42c1",
   "metadata": {},
   "outputs": [
    {
     "data": {
      "text/plain": [
       "0.12"
      ]
     },
     "execution_count": 53,
     "metadata": {},
     "output_type": "execute_result"
    }
   ],
   "source": [
    "perm[-4]"
   ]
  },
  {
   "cell_type": "code",
   "execution_count": 54,
   "id": "7e8e010b",
   "metadata": {},
   "outputs": [
    {
     "data": {
      "text/plain": [
       "[4, 5, 6]"
      ]
     },
     "execution_count": 54,
     "metadata": {},
     "output_type": "execute_result"
    }
   ],
   "source": [
    "li[-2]"
   ]
  },
  {
   "cell_type": "markdown",
   "id": "86920d33",
   "metadata": {},
   "source": [
    "## Slicing - list[start:stop:step], Element at stopping index will be excluded from your slice"
   ]
  },
  {
   "cell_type": "code",
   "execution_count": 55,
   "id": "055f61af",
   "metadata": {},
   "outputs": [
    {
     "data": {
      "text/plain": [
       "[34, 45, 78]"
      ]
     },
     "execution_count": 55,
     "metadata": {},
     "output_type": "execute_result"
    }
   ],
   "source": [
    "perm[1:4]"
   ]
  },
  {
   "cell_type": "code",
   "execution_count": 57,
   "id": "d3c87f43",
   "metadata": {},
   "outputs": [
    {
     "data": {
      "text/plain": [
       "[34, 45, 78, 0.8, 0.12, 0.5651, 'Permeability', 'porosity']"
      ]
     },
     "execution_count": 57,
     "metadata": {},
     "output_type": "execute_result"
    }
   ],
   "source": [
    "perm[1:]"
   ]
  },
  {
   "cell_type": "code",
   "execution_count": 58,
   "id": "924a57ea",
   "metadata": {},
   "outputs": [
    {
     "data": {
      "text/plain": [
       "[0.12, 0.5651, 'Permeability', 'porosity']"
      ]
     },
     "execution_count": 58,
     "metadata": {},
     "output_type": "execute_result"
    }
   ],
   "source": [
    "perm[5:]"
   ]
  },
  {
   "cell_type": "code",
   "execution_count": 59,
   "id": "fe355116",
   "metadata": {},
   "outputs": [
    {
     "data": {
      "text/plain": [
       "[0.12, 0.5651]"
      ]
     },
     "execution_count": 59,
     "metadata": {},
     "output_type": "execute_result"
    }
   ],
   "source": [
    "perm[5:-2]"
   ]
  },
  {
   "cell_type": "code",
   "execution_count": 60,
   "id": "82b567a7",
   "metadata": {},
   "outputs": [
    {
     "data": {
      "text/plain": [
       "[12, 45, 0.8, 0.5651, 'porosity']"
      ]
     },
     "execution_count": 60,
     "metadata": {},
     "output_type": "execute_result"
    }
   ],
   "source": [
    "perm[::2]"
   ]
  },
  {
   "cell_type": "code",
   "execution_count": 61,
   "id": "d2ee9cb3",
   "metadata": {},
   "outputs": [
    {
     "data": {
      "text/plain": [
       "[12, 78, 0.5651]"
      ]
     },
     "execution_count": 61,
     "metadata": {},
     "output_type": "execute_result"
    }
   ],
   "source": [
    "perm[::3]"
   ]
  },
  {
   "cell_type": "code",
   "execution_count": 62,
   "id": "ec1b9491",
   "metadata": {},
   "outputs": [
    {
     "data": {
      "text/plain": [
       "[34, 0.8, 'Permeability']"
      ]
     },
     "execution_count": 62,
     "metadata": {},
     "output_type": "execute_result"
    }
   ],
   "source": [
    "perm[1:-1:3]"
   ]
  },
  {
   "cell_type": "code",
   "execution_count": 63,
   "id": "b110fb30",
   "metadata": {},
   "outputs": [
    {
     "data": {
      "text/plain": [
       "['porosity', 'Permeability', 0.5651, 0.12, 0.8, 78, 45, 34, 12]"
      ]
     },
     "execution_count": 63,
     "metadata": {},
     "output_type": "execute_result"
    }
   ],
   "source": [
    "perm[-1::-1]"
   ]
  },
  {
   "cell_type": "code",
   "execution_count": 64,
   "id": "24c84c78",
   "metadata": {},
   "outputs": [],
   "source": [
    "s = \"Porosity and Permeability\""
   ]
  },
  {
   "cell_type": "code",
   "execution_count": 65,
   "id": "66dcf7a0",
   "metadata": {},
   "outputs": [
    {
     "data": {
      "text/plain": [
       "25"
      ]
     },
     "execution_count": 65,
     "metadata": {},
     "output_type": "execute_result"
    }
   ],
   "source": [
    "len(s)"
   ]
  },
  {
   "cell_type": "code",
   "execution_count": 66,
   "id": "b43d9023",
   "metadata": {},
   "outputs": [
    {
     "data": {
      "text/plain": [
       "'Prst'"
      ]
     },
     "execution_count": 66,
     "metadata": {},
     "output_type": "execute_result"
    }
   ],
   "source": [
    "s[0:8:2]"
   ]
  },
  {
   "cell_type": "code",
   "execution_count": 67,
   "id": "343dfa01",
   "metadata": {},
   "outputs": [
    {
     "data": {
      "text/plain": [
       "'ytilibaemreP dna ytisoroP'"
      ]
     },
     "execution_count": 67,
     "metadata": {},
     "output_type": "execute_result"
    }
   ],
   "source": [
    "s[-1::-1]"
   ]
  },
  {
   "cell_type": "markdown",
   "id": "33b2681a",
   "metadata": {},
   "source": [
    "## Append"
   ]
  },
  {
   "cell_type": "code",
   "execution_count": 69,
   "id": "9cee744e",
   "metadata": {},
   "outputs": [],
   "source": [
    "CrudeDensity = []"
   ]
  },
  {
   "cell_type": "code",
   "execution_count": 70,
   "id": "dc02b884",
   "metadata": {},
   "outputs": [
    {
     "data": {
      "text/plain": [
       "[]"
      ]
     },
     "execution_count": 70,
     "metadata": {},
     "output_type": "execute_result"
    }
   ],
   "source": [
    "CrudeDensity"
   ]
  },
  {
   "cell_type": "code",
   "execution_count": 71,
   "id": "3b5ce45c",
   "metadata": {},
   "outputs": [],
   "source": [
    "CrudeDensity.append(62.4)"
   ]
  },
  {
   "cell_type": "code",
   "execution_count": 72,
   "id": "5b3ea593",
   "metadata": {},
   "outputs": [
    {
     "data": {
      "text/plain": [
       "[62.4]"
      ]
     },
     "execution_count": 72,
     "metadata": {},
     "output_type": "execute_result"
    }
   ],
   "source": [
    "CrudeDensity"
   ]
  },
  {
   "cell_type": "code",
   "execution_count": 73,
   "id": "a29d509a",
   "metadata": {},
   "outputs": [],
   "source": [
    "CrudeDensity.append(74.4)"
   ]
  },
  {
   "cell_type": "code",
   "execution_count": 74,
   "id": "299048ad",
   "metadata": {},
   "outputs": [
    {
     "data": {
      "text/plain": [
       "[62.4, 74.4]"
      ]
     },
     "execution_count": 74,
     "metadata": {},
     "output_type": "execute_result"
    }
   ],
   "source": [
    "CrudeDensity"
   ]
  },
  {
   "cell_type": "markdown",
   "id": "3ec4841c",
   "metadata": {},
   "source": [
    "## Insert"
   ]
  },
  {
   "cell_type": "code",
   "execution_count": 75,
   "id": "0f20cdcf",
   "metadata": {},
   "outputs": [],
   "source": [
    "a = [1,2,3,4,5,6,7]"
   ]
  },
  {
   "cell_type": "code",
   "execution_count": 76,
   "id": "73bbf8d2",
   "metadata": {},
   "outputs": [
    {
     "data": {
      "text/plain": [
       "[1, 2, 3, 4, 5, 6, 7]"
      ]
     },
     "execution_count": 76,
     "metadata": {},
     "output_type": "execute_result"
    }
   ],
   "source": [
    "a"
   ]
  },
  {
   "cell_type": "code",
   "execution_count": 77,
   "id": "cac5d4b1",
   "metadata": {},
   "outputs": [],
   "source": [
    "a.insert(4,'PETROLEUM')"
   ]
  },
  {
   "cell_type": "code",
   "execution_count": 78,
   "id": "dd313f80",
   "metadata": {},
   "outputs": [
    {
     "data": {
      "text/plain": [
       "[1, 2, 3, 4, 'PETROLEUM', 5, 6, 7]"
      ]
     },
     "execution_count": 78,
     "metadata": {},
     "output_type": "execute_result"
    }
   ],
   "source": [
    "a"
   ]
  },
  {
   "cell_type": "markdown",
   "id": "8f11a802",
   "metadata": {},
   "source": [
    "## Replace"
   ]
  },
  {
   "cell_type": "code",
   "execution_count": 79,
   "id": "c7c06023",
   "metadata": {},
   "outputs": [
    {
     "data": {
      "text/plain": [
       "[12, 34, 45, 78, 0.8, 0.12, 0.5651, 'Permeability', 'porosity']"
      ]
     },
     "execution_count": 79,
     "metadata": {},
     "output_type": "execute_result"
    }
   ],
   "source": [
    "perm"
   ]
  },
  {
   "cell_type": "code",
   "execution_count": 80,
   "id": "65e1148b",
   "metadata": {},
   "outputs": [
    {
     "data": {
      "text/plain": [
       "34"
      ]
     },
     "execution_count": 80,
     "metadata": {},
     "output_type": "execute_result"
    }
   ],
   "source": [
    "perm[1]"
   ]
  },
  {
   "cell_type": "code",
   "execution_count": 81,
   "id": "2051d408",
   "metadata": {},
   "outputs": [],
   "source": [
    "perm[1] = 67"
   ]
  },
  {
   "cell_type": "code",
   "execution_count": 82,
   "id": "39ed3e9a",
   "metadata": {},
   "outputs": [
    {
     "data": {
      "text/plain": [
       "[12, 67, 45, 78, 0.8, 0.12, 0.5651, 'Permeability', 'porosity']"
      ]
     },
     "execution_count": 82,
     "metadata": {},
     "output_type": "execute_result"
    }
   ],
   "source": [
    "perm"
   ]
  },
  {
   "cell_type": "markdown",
   "id": "c2e72b4d",
   "metadata": {},
   "source": [
    "## Range"
   ]
  },
  {
   "cell_type": "code",
   "execution_count": 1,
   "id": "929f802a",
   "metadata": {},
   "outputs": [
    {
     "data": {
      "text/plain": [
       "range(0, 10)"
      ]
     },
     "execution_count": 1,
     "metadata": {},
     "output_type": "execute_result"
    }
   ],
   "source": [
    "range(10) #Stop is excluded"
   ]
  },
  {
   "cell_type": "code",
   "execution_count": 2,
   "id": "ed9e6704",
   "metadata": {},
   "outputs": [
    {
     "data": {
      "text/plain": [
       "[0, 1, 2, 3, 4, 5, 6, 7, 8, 9]"
      ]
     },
     "execution_count": 2,
     "metadata": {},
     "output_type": "execute_result"
    }
   ],
   "source": [
    "list(range(10))"
   ]
  },
  {
   "cell_type": "markdown",
   "id": "6056afe6",
   "metadata": {},
   "source": [
    "Range(Start:Stop:Step)"
   ]
  },
  {
   "cell_type": "code",
   "execution_count": 3,
   "id": "644d32b8",
   "metadata": {},
   "outputs": [
    {
     "data": {
      "text/plain": [
       "range(2, 12)"
      ]
     },
     "execution_count": 3,
     "metadata": {},
     "output_type": "execute_result"
    }
   ],
   "source": [
    "range(2,12)"
   ]
  },
  {
   "cell_type": "code",
   "execution_count": 4,
   "id": "ff268861",
   "metadata": {},
   "outputs": [
    {
     "data": {
      "text/plain": [
       "[2, 3, 4, 5, 6, 7, 8, 9, 10, 11]"
      ]
     },
     "execution_count": 4,
     "metadata": {},
     "output_type": "execute_result"
    }
   ],
   "source": [
    "list(range(2,12))"
   ]
  },
  {
   "cell_type": "code",
   "execution_count": 5,
   "id": "6fb2728d",
   "metadata": {},
   "outputs": [
    {
     "data": {
      "text/plain": [
       "range(2, 12, 2)"
      ]
     },
     "execution_count": 5,
     "metadata": {},
     "output_type": "execute_result"
    }
   ],
   "source": [
    "range(2,12,2)"
   ]
  },
  {
   "cell_type": "code",
   "execution_count": 6,
   "id": "821679fa",
   "metadata": {},
   "outputs": [
    {
     "data": {
      "text/plain": [
       "[2, 4, 6, 8, 10]"
      ]
     },
     "execution_count": 6,
     "metadata": {},
     "output_type": "execute_result"
    }
   ],
   "source": [
    "list(range(2,12,2))"
   ]
  },
  {
   "cell_type": "code",
   "execution_count": 7,
   "id": "edf43c19",
   "metadata": {},
   "outputs": [
    {
     "data": {
      "text/plain": [
       "[20, 19, 18, 17, 16, 15, 14, 13, 12, 11, 10, 9, 8, 7, 6, 5, 4, 3, 2, 1]"
      ]
     },
     "execution_count": 7,
     "metadata": {},
     "output_type": "execute_result"
    }
   ],
   "source": [
    "list(range(20,0,-1))"
   ]
  },
  {
   "cell_type": "markdown",
   "id": "324534aa",
   "metadata": {},
   "source": [
    "List of even numbers starting from 2 to 100"
   ]
  },
  {
   "cell_type": "code",
   "execution_count": 8,
   "id": "5e8b3b3d",
   "metadata": {},
   "outputs": [
    {
     "data": {
      "text/plain": [
       "[2,\n",
       " 4,\n",
       " 6,\n",
       " 8,\n",
       " 10,\n",
       " 12,\n",
       " 14,\n",
       " 16,\n",
       " 18,\n",
       " 20,\n",
       " 22,\n",
       " 24,\n",
       " 26,\n",
       " 28,\n",
       " 30,\n",
       " 32,\n",
       " 34,\n",
       " 36,\n",
       " 38,\n",
       " 40,\n",
       " 42,\n",
       " 44,\n",
       " 46,\n",
       " 48,\n",
       " 50,\n",
       " 52,\n",
       " 54,\n",
       " 56,\n",
       " 58,\n",
       " 60,\n",
       " 62,\n",
       " 64,\n",
       " 66,\n",
       " 68,\n",
       " 70,\n",
       " 72,\n",
       " 74,\n",
       " 76,\n",
       " 78,\n",
       " 80,\n",
       " 82,\n",
       " 84,\n",
       " 86,\n",
       " 88,\n",
       " 90,\n",
       " 92,\n",
       " 94,\n",
       " 96,\n",
       " 98,\n",
       " 100]"
      ]
     },
     "execution_count": 8,
     "metadata": {},
     "output_type": "execute_result"
    }
   ],
   "source": [
    "list(range(2,101,2))"
   ]
  },
  {
   "cell_type": "code",
   "execution_count": 9,
   "id": "ce35efc2",
   "metadata": {},
   "outputs": [
    {
     "data": {
      "text/plain": [
       "[100,\n",
       " 98,\n",
       " 96,\n",
       " 94,\n",
       " 92,\n",
       " 90,\n",
       " 88,\n",
       " 86,\n",
       " 84,\n",
       " 82,\n",
       " 80,\n",
       " 78,\n",
       " 76,\n",
       " 74,\n",
       " 72,\n",
       " 70,\n",
       " 68,\n",
       " 66,\n",
       " 64,\n",
       " 62,\n",
       " 60,\n",
       " 58,\n",
       " 56,\n",
       " 54,\n",
       " 52,\n",
       " 50,\n",
       " 48,\n",
       " 46,\n",
       " 44,\n",
       " 42,\n",
       " 40,\n",
       " 38,\n",
       " 36,\n",
       " 34,\n",
       " 32,\n",
       " 30,\n",
       " 28,\n",
       " 26,\n",
       " 24,\n",
       " 22,\n",
       " 20,\n",
       " 18,\n",
       " 16,\n",
       " 14,\n",
       " 12,\n",
       " 10,\n",
       " 8,\n",
       " 6,\n",
       " 4]"
      ]
     },
     "execution_count": 9,
     "metadata": {},
     "output_type": "execute_result"
    }
   ],
   "source": [
    "list(range(100,2,-2))"
   ]
  },
  {
   "cell_type": "code",
   "execution_count": 10,
   "id": "a073cc39",
   "metadata": {},
   "outputs": [
    {
     "name": "stdout",
     "output_type": "stream",
     "text": [
      "Enter starting point: 2\n",
      "Enter stoping point: 101\n",
      "Enter step: 2\n"
     ]
    },
    {
     "data": {
      "text/plain": [
       "[2,\n",
       " 4,\n",
       " 6,\n",
       " 8,\n",
       " 10,\n",
       " 12,\n",
       " 14,\n",
       " 16,\n",
       " 18,\n",
       " 20,\n",
       " 22,\n",
       " 24,\n",
       " 26,\n",
       " 28,\n",
       " 30,\n",
       " 32,\n",
       " 34,\n",
       " 36,\n",
       " 38,\n",
       " 40,\n",
       " 42,\n",
       " 44,\n",
       " 46,\n",
       " 48,\n",
       " 50,\n",
       " 52,\n",
       " 54,\n",
       " 56,\n",
       " 58,\n",
       " 60,\n",
       " 62,\n",
       " 64,\n",
       " 66,\n",
       " 68,\n",
       " 70,\n",
       " 72,\n",
       " 74,\n",
       " 76,\n",
       " 78,\n",
       " 80,\n",
       " 82,\n",
       " 84,\n",
       " 86,\n",
       " 88,\n",
       " 90,\n",
       " 92,\n",
       " 94,\n",
       " 96,\n",
       " 98,\n",
       " 100]"
      ]
     },
     "execution_count": 10,
     "metadata": {},
     "output_type": "execute_result"
    }
   ],
   "source": [
    "## Taking inputs fro start, stop and step from users\n",
    "\n",
    "start = int(input('Enter starting point: '))\n",
    "stop = int(input('Enter stoping point: '))\n",
    "step = int(input('Enter step: '))\n",
    "\n",
    "list(range(start,stop,step))"
   ]
  },
  {
   "cell_type": "markdown",
   "id": "68ec55b2",
   "metadata": {},
   "source": [
    "tuples (), ordered"
   ]
  },
  {
   "cell_type": "code",
   "execution_count": 11,
   "id": "d067d510",
   "metadata": {},
   "outputs": [],
   "source": [
    "oilprd  = (5000,1000,4322,5633,1245)"
   ]
  },
  {
   "cell_type": "code",
   "execution_count": 12,
   "id": "5ecbea6b",
   "metadata": {},
   "outputs": [
    {
     "data": {
      "text/plain": [
       "(5000, 1000, 4322, 5633, 1245)"
      ]
     },
     "execution_count": 12,
     "metadata": {},
     "output_type": "execute_result"
    }
   ],
   "source": [
    "oilprd"
   ]
  },
  {
   "cell_type": "code",
   "execution_count": 13,
   "id": "d5aba54f",
   "metadata": {},
   "outputs": [
    {
     "data": {
      "text/plain": [
       "tuple"
      ]
     },
     "execution_count": 13,
     "metadata": {},
     "output_type": "execute_result"
    }
   ],
   "source": [
    "type(oilprd)"
   ]
  },
  {
   "cell_type": "code",
   "execution_count": 14,
   "id": "369d10b0",
   "metadata": {},
   "outputs": [],
   "source": [
    "oilprd_list = list(oilprd)"
   ]
  },
  {
   "cell_type": "code",
   "execution_count": 15,
   "id": "4ab0bcd2",
   "metadata": {},
   "outputs": [
    {
     "data": {
      "text/plain": [
       "[5000, 1000, 4322, 5633, 1245]"
      ]
     },
     "execution_count": 15,
     "metadata": {},
     "output_type": "execute_result"
    }
   ],
   "source": [
    "oilprd_list"
   ]
  },
  {
   "cell_type": "code",
   "execution_count": 16,
   "id": "e29dc1e5",
   "metadata": {},
   "outputs": [
    {
     "data": {
      "text/plain": [
       "list"
      ]
     },
     "execution_count": 16,
     "metadata": {},
     "output_type": "execute_result"
    }
   ],
   "source": [
    "type(oilprd_list)"
   ]
  },
  {
   "cell_type": "code",
   "execution_count": 17,
   "id": "20269ae5",
   "metadata": {},
   "outputs": [],
   "source": [
    "oilprd_new = tuple(oilprd_list)"
   ]
  },
  {
   "cell_type": "code",
   "execution_count": 18,
   "id": "7ac36899",
   "metadata": {},
   "outputs": [
    {
     "data": {
      "text/plain": [
       "(5000, 1000, 4322, 5633, 1245)"
      ]
     },
     "execution_count": 18,
     "metadata": {},
     "output_type": "execute_result"
    }
   ],
   "source": [
    "oilprd_new"
   ]
  },
  {
   "cell_type": "code",
   "execution_count": 19,
   "id": "ef45e15f",
   "metadata": {},
   "outputs": [
    {
     "ename": "TypeError",
     "evalue": "'tuple' object does not support item assignment",
     "output_type": "error",
     "traceback": [
      "\u001b[1;31m---------------------------------------------------------------------------\u001b[0m",
      "\u001b[1;31mTypeError\u001b[0m                                 Traceback (most recent call last)",
      "\u001b[1;32m<ipython-input-19-a8afe654be34>\u001b[0m in \u001b[0;36m<module>\u001b[1;34m\u001b[0m\n\u001b[1;32m----> 1\u001b[1;33m \u001b[0moilprd\u001b[0m\u001b[1;33m[\u001b[0m\u001b[1;36m1\u001b[0m\u001b[1;33m]\u001b[0m\u001b[1;33m=\u001b[0m\u001b[1;36m2000\u001b[0m\u001b[1;33m\u001b[0m\u001b[1;33m\u001b[0m\u001b[0m\n\u001b[0m",
      "\u001b[1;31mTypeError\u001b[0m: 'tuple' object does not support item assignment"
     ]
    }
   ],
   "source": [
    "oilprd[1]=2000"
   ]
  },
  {
   "cell_type": "code",
   "execution_count": 20,
   "id": "0bdab920",
   "metadata": {},
   "outputs": [],
   "source": [
    "oilprd_list[1]=2000"
   ]
  },
  {
   "cell_type": "code",
   "execution_count": 21,
   "id": "41989a10",
   "metadata": {},
   "outputs": [
    {
     "data": {
      "text/plain": [
       "[5000, 2000, 4322, 5633, 1245]"
      ]
     },
     "execution_count": 21,
     "metadata": {},
     "output_type": "execute_result"
    }
   ],
   "source": [
    "oilprd_list"
   ]
  },
  {
   "cell_type": "markdown",
   "id": "65f814ef",
   "metadata": {},
   "source": [
    "Lists are mutable, [] and Tuples are immutable,() and strings are also immutable."
   ]
  },
  {
   "cell_type": "code",
   "execution_count": 40,
   "id": "26fd825e",
   "metadata": {},
   "outputs": [],
   "source": [
    "s = 'Petroleum'"
   ]
  },
  {
   "cell_type": "code",
   "execution_count": 41,
   "id": "455b3dbe",
   "metadata": {
    "scrolled": true
   },
   "outputs": [
    {
     "data": {
      "text/plain": [
       "'t'"
      ]
     },
     "execution_count": 41,
     "metadata": {},
     "output_type": "execute_result"
    }
   ],
   "source": [
    "s[2]"
   ]
  },
  {
   "cell_type": "code",
   "execution_count": 42,
   "id": "6bf1bc58",
   "metadata": {},
   "outputs": [
    {
     "ename": "TypeError",
     "evalue": "'str' object does not support item assignment",
     "output_type": "error",
     "traceback": [
      "\u001b[1;31m---------------------------------------------------------------------------\u001b[0m",
      "\u001b[1;31mTypeError\u001b[0m                                 Traceback (most recent call last)",
      "\u001b[1;32m<ipython-input-42-f702e31ca78e>\u001b[0m in \u001b[0;36m<module>\u001b[1;34m\u001b[0m\n\u001b[1;32m----> 1\u001b[1;33m \u001b[0ms\u001b[0m\u001b[1;33m[\u001b[0m\u001b[1;36m2\u001b[0m\u001b[1;33m]\u001b[0m \u001b[1;33m=\u001b[0m \u001b[1;34m'r'\u001b[0m\u001b[1;33m\u001b[0m\u001b[1;33m\u001b[0m\u001b[0m\n\u001b[0m",
      "\u001b[1;31mTypeError\u001b[0m: 'str' object does not support item assignment"
     ]
    }
   ],
   "source": [
    "s[2] = 'r'"
   ]
  },
  {
   "cell_type": "markdown",
   "id": "00fe3038",
   "metadata": {},
   "source": [
    "## SETs - No duplication is allowed, {}"
   ]
  },
  {
   "cell_type": "code",
   "execution_count": 1,
   "id": "e2d1f93d",
   "metadata": {},
   "outputs": [],
   "source": [
    "perm = {2,3,2,4,2,5,5,64,454,45,65,878,545,21,45,4}"
   ]
  },
  {
   "cell_type": "code",
   "execution_count": 2,
   "id": "38e99dc8",
   "metadata": {},
   "outputs": [
    {
     "data": {
      "text/plain": [
       "set"
      ]
     },
     "execution_count": 2,
     "metadata": {},
     "output_type": "execute_result"
    }
   ],
   "source": [
    "type(perm)"
   ]
  },
  {
   "cell_type": "code",
   "execution_count": 3,
   "id": "3db47b32",
   "metadata": {},
   "outputs": [],
   "source": [
    "s = {2,2,2,2,2,3,3,4,7,89,0,63,11,456,77,54,4,'ja','ja'}"
   ]
  },
  {
   "cell_type": "code",
   "execution_count": 4,
   "id": "f539cc08",
   "metadata": {},
   "outputs": [
    {
     "data": {
      "text/plain": [
       "{0, 11, 2, 3, 4, 456, 54, 63, 7, 77, 89, 'ja'}"
      ]
     },
     "execution_count": 4,
     "metadata": {},
     "output_type": "execute_result"
    }
   ],
   "source": [
    "s"
   ]
  },
  {
   "cell_type": "markdown",
   "id": "1248bbcf",
   "metadata": {},
   "source": [
    "## Dictionary - Key:Value, {}, Key must be unique"
   ]
  },
  {
   "cell_type": "code",
   "execution_count": 5,
   "id": "16fbe884",
   "metadata": {},
   "outputs": [],
   "source": [
    "d = {}"
   ]
  },
  {
   "cell_type": "code",
   "execution_count": 7,
   "id": "44a56b66",
   "metadata": {},
   "outputs": [
    {
     "data": {
      "text/plain": [
       "dict"
      ]
     },
     "execution_count": 7,
     "metadata": {},
     "output_type": "execute_result"
    }
   ],
   "source": [
    "type(d)"
   ]
  },
  {
   "cell_type": "code",
   "execution_count": 8,
   "id": "c5410587",
   "metadata": {},
   "outputs": [],
   "source": [
    "rock_properties_core_a = {'porosity':0.25,'perm':20,'lithology':'Limestone'}"
   ]
  },
  {
   "cell_type": "code",
   "execution_count": 9,
   "id": "c6fd5e1a",
   "metadata": {},
   "outputs": [
    {
     "data": {
      "text/plain": [
       "{'porosity': 0.25, 'perm': 20, 'lithology': 'Limestone'}"
      ]
     },
     "execution_count": 9,
     "metadata": {},
     "output_type": "execute_result"
    }
   ],
   "source": [
    "rock_properties_core_a"
   ]
  },
  {
   "cell_type": "code",
   "execution_count": 10,
   "id": "d6e6bb6f",
   "metadata": {},
   "outputs": [],
   "source": [
    "rock_prop = {'poro':0.20,'poro':'Sandstone'}"
   ]
  },
  {
   "cell_type": "code",
   "execution_count": 11,
   "id": "d083d0b3",
   "metadata": {},
   "outputs": [
    {
     "data": {
      "text/plain": [
       "{'poro': 'Sandstone'}"
      ]
     },
     "execution_count": 11,
     "metadata": {},
     "output_type": "execute_result"
    }
   ],
   "source": [
    "rock_prop"
   ]
  },
  {
   "cell_type": "code",
   "execution_count": 12,
   "id": "938c033a",
   "metadata": {},
   "outputs": [],
   "source": [
    "d1 = {34432.02:'jc','name':'dsds','34432.02':\"str\"}"
   ]
  },
  {
   "cell_type": "code",
   "execution_count": 13,
   "id": "871c9328",
   "metadata": {},
   "outputs": [
    {
     "data": {
      "text/plain": [
       "'dsds'"
      ]
     },
     "execution_count": 13,
     "metadata": {},
     "output_type": "execute_result"
    }
   ],
   "source": [
    "d1['name']"
   ]
  },
  {
   "cell_type": "code",
   "execution_count": 14,
   "id": "d8b6837e",
   "metadata": {},
   "outputs": [
    {
     "data": {
      "text/plain": [
       "'jc'"
      ]
     },
     "execution_count": 14,
     "metadata": {},
     "output_type": "execute_result"
    }
   ],
   "source": [
    "d1[34432.02]"
   ]
  },
  {
   "cell_type": "code",
   "execution_count": 16,
   "id": "d79d0e9a",
   "metadata": {},
   "outputs": [
    {
     "data": {
      "text/plain": [
       "'str'"
      ]
     },
     "execution_count": 16,
     "metadata": {},
     "output_type": "execute_result"
    }
   ],
   "source": [
    "d1['34432.02']"
   ]
  },
  {
   "cell_type": "code",
   "execution_count": 17,
   "id": "21a684c0",
   "metadata": {},
   "outputs": [
    {
     "data": {
      "text/plain": [
       "{34432.02: 'jc', 'name': 'dsds', '34432.02': 'str'}"
      ]
     },
     "execution_count": 17,
     "metadata": {},
     "output_type": "execute_result"
    }
   ],
   "source": [
    "d1"
   ]
  },
  {
   "cell_type": "code",
   "execution_count": 20,
   "id": "187a8478",
   "metadata": {},
   "outputs": [
    {
     "ename": "KeyError",
     "evalue": "0",
     "output_type": "error",
     "traceback": [
      "\u001b[1;31m---------------------------------------------------------------------------\u001b[0m",
      "\u001b[1;31mKeyError\u001b[0m                                  Traceback (most recent call last)",
      "\u001b[1;32m<ipython-input-20-f64ff61913e8>\u001b[0m in \u001b[0;36m<module>\u001b[1;34m\u001b[0m\n\u001b[1;32m----> 1\u001b[1;33m \u001b[0md1\u001b[0m\u001b[1;33m[\u001b[0m\u001b[1;36m0\u001b[0m\u001b[1;33m]\u001b[0m\u001b[1;33m\u001b[0m\u001b[1;33m\u001b[0m\u001b[0m\n\u001b[0m",
      "\u001b[1;31mKeyError\u001b[0m: 0"
     ]
    }
   ],
   "source": [
    "d1[0]"
   ]
  },
  {
   "cell_type": "code",
   "execution_count": 21,
   "id": "1923c108",
   "metadata": {},
   "outputs": [
    {
     "data": {
      "text/plain": [
       "'jc'"
      ]
     },
     "execution_count": 21,
     "metadata": {},
     "output_type": "execute_result"
    }
   ],
   "source": [
    "d1[34432.02]"
   ]
  },
  {
   "cell_type": "code",
   "execution_count": 26,
   "id": "bdfd0eff",
   "metadata": {},
   "outputs": [],
   "source": [
    "d1 = {'key1':23,\"flo\":0.454,'name':'PE','n':[1,2,34,445,45,12],'s':{34,32,12,43,32},'t':(4545,32,54,564,232,453,6),'d':{'k':'fgrs','fg':'sdgfsd'}}"
   ]
  },
  {
   "cell_type": "code",
   "execution_count": 27,
   "id": "49b6cd7a",
   "metadata": {},
   "outputs": [
    {
     "data": {
      "text/plain": [
       "{'key1': 23,\n",
       " 'flo': 0.454,\n",
       " 'name': 'PE',\n",
       " 'n': [1, 2, 34, 445, 45, 12],\n",
       " 's': {12, 32, 34, 43},\n",
       " 't': (4545, 32, 54, 564, 232, 453, 6),\n",
       " 'd': {'k': 'fgrs', 'fg': 'sdgfsd'}}"
      ]
     },
     "execution_count": 27,
     "metadata": {},
     "output_type": "execute_result"
    }
   ],
   "source": [
    "d1"
   ]
  },
  {
   "cell_type": "code",
   "execution_count": 28,
   "id": "ef713666",
   "metadata": {},
   "outputs": [
    {
     "data": {
      "text/plain": [
       "23"
      ]
     },
     "execution_count": 28,
     "metadata": {},
     "output_type": "execute_result"
    }
   ],
   "source": [
    "d1['key1']"
   ]
  },
  {
   "cell_type": "code",
   "execution_count": 29,
   "id": "7270194f",
   "metadata": {},
   "outputs": [],
   "source": [
    "porosity = [0.20,0.30,0.50,0.4]\n",
    "pemebaility = [23,45,26,478]\n",
    "lithology = ('Limestone','Sandstone','Shale','Limestone')"
   ]
  },
  {
   "cell_type": "code",
   "execution_count": 30,
   "id": "b5510981",
   "metadata": {},
   "outputs": [],
   "source": [
    "rock_properties = {'poro':porosity,'perm':pemebaility,'LITHOLOGY':lithology}"
   ]
  },
  {
   "cell_type": "code",
   "execution_count": 31,
   "id": "54213d28",
   "metadata": {},
   "outputs": [
    {
     "data": {
      "text/plain": [
       "{'poro': [0.2, 0.3, 0.5, 0.4],\n",
       " 'perm': [23, 45, 26, 478],\n",
       " 'LITHOLOGY': ('Limestone', 'Sandstone', 'Shale', 'Limestone')}"
      ]
     },
     "execution_count": 31,
     "metadata": {},
     "output_type": "execute_result"
    }
   ],
   "source": [
    "rock_properties"
   ]
  },
  {
   "cell_type": "code",
   "execution_count": 32,
   "id": "8069fe8c",
   "metadata": {},
   "outputs": [
    {
     "data": {
      "text/plain": [
       "list"
      ]
     },
     "execution_count": 32,
     "metadata": {},
     "output_type": "execute_result"
    }
   ],
   "source": [
    "type(rock_properties['perm'])"
   ]
  },
  {
   "cell_type": "code",
   "execution_count": 33,
   "id": "54a356ab",
   "metadata": {},
   "outputs": [
    {
     "data": {
      "text/plain": [
       "tuple"
      ]
     },
     "execution_count": 33,
     "metadata": {},
     "output_type": "execute_result"
    }
   ],
   "source": [
    "type(rock_properties['LITHOLOGY'])"
   ]
  },
  {
   "cell_type": "code",
   "execution_count": 34,
   "id": "419ac2a5",
   "metadata": {},
   "outputs": [],
   "source": [
    "d = {(2,3,4,5):'perm'}"
   ]
  },
  {
   "cell_type": "code",
   "execution_count": 35,
   "id": "f8a3a322",
   "metadata": {},
   "outputs": [
    {
     "data": {
      "text/plain": [
       "{(2, 3, 4, 5): 'perm'}"
      ]
     },
     "execution_count": 35,
     "metadata": {},
     "output_type": "execute_result"
    }
   ],
   "source": [
    "d"
   ]
  },
  {
   "cell_type": "code",
   "execution_count": 36,
   "id": "a446e69f",
   "metadata": {},
   "outputs": [
    {
     "data": {
      "text/plain": [
       "'perm'"
      ]
     },
     "execution_count": 36,
     "metadata": {},
     "output_type": "execute_result"
    }
   ],
   "source": [
    "d[(2, 3, 4, 5)]"
   ]
  },
  {
   "cell_type": "code",
   "execution_count": 37,
   "id": "c6f7bba6",
   "metadata": {},
   "outputs": [
    {
     "ename": "TypeError",
     "evalue": "unhashable type: 'list'",
     "output_type": "error",
     "traceback": [
      "\u001b[1;31m---------------------------------------------------------------------------\u001b[0m",
      "\u001b[1;31mTypeError\u001b[0m                                 Traceback (most recent call last)",
      "\u001b[1;32m<ipython-input-37-a34e4f988f9a>\u001b[0m in \u001b[0;36m<module>\u001b[1;34m\u001b[0m\n\u001b[1;32m----> 1\u001b[1;33m \u001b[0md\u001b[0m \u001b[1;33m=\u001b[0m \u001b[1;33m{\u001b[0m\u001b[1;33m[\u001b[0m\u001b[1;36m2\u001b[0m\u001b[1;33m,\u001b[0m\u001b[1;36m3\u001b[0m\u001b[1;33m,\u001b[0m\u001b[1;36m4\u001b[0m\u001b[1;33m,\u001b[0m\u001b[1;36m6\u001b[0m\u001b[1;33m]\u001b[0m\u001b[1;33m:\u001b[0m\u001b[1;34m'perm'\u001b[0m\u001b[1;33m}\u001b[0m\u001b[1;33m\u001b[0m\u001b[1;33m\u001b[0m\u001b[0m\n\u001b[0m",
      "\u001b[1;31mTypeError\u001b[0m: unhashable type: 'list'"
     ]
    }
   ],
   "source": [
    "d = {[2,3,4,6]:'perm'}"
   ]
  },
  {
   "cell_type": "code",
   "execution_count": 38,
   "id": "d4fc6075",
   "metadata": {},
   "outputs": [
    {
     "ename": "TypeError",
     "evalue": "unhashable type: 'set'",
     "output_type": "error",
     "traceback": [
      "\u001b[1;31m---------------------------------------------------------------------------\u001b[0m",
      "\u001b[1;31mTypeError\u001b[0m                                 Traceback (most recent call last)",
      "\u001b[1;32m<ipython-input-38-c2baa6d1d03b>\u001b[0m in \u001b[0;36m<module>\u001b[1;34m\u001b[0m\n\u001b[1;32m----> 1\u001b[1;33m \u001b[0md\u001b[0m \u001b[1;33m=\u001b[0m \u001b[1;33m{\u001b[0m\u001b[1;33m{\u001b[0m\u001b[1;36m2\u001b[0m\u001b[1;33m,\u001b[0m\u001b[1;36m3\u001b[0m\u001b[1;33m,\u001b[0m\u001b[1;36m4\u001b[0m\u001b[1;33m,\u001b[0m\u001b[1;36m6\u001b[0m\u001b[1;33m}\u001b[0m\u001b[1;33m:\u001b[0m\u001b[1;34m'perm'\u001b[0m\u001b[1;33m}\u001b[0m\u001b[1;33m\u001b[0m\u001b[1;33m\u001b[0m\u001b[0m\n\u001b[0m",
      "\u001b[1;31mTypeError\u001b[0m: unhashable type: 'set'"
     ]
    }
   ],
   "source": [
    "d = {{2,3,4,6}:'perm'}"
   ]
  },
  {
   "cell_type": "code",
   "execution_count": 39,
   "id": "84d405f1",
   "metadata": {},
   "outputs": [
    {
     "ename": "TypeError",
     "evalue": "unhashable type: 'dict'",
     "output_type": "error",
     "traceback": [
      "\u001b[1;31m---------------------------------------------------------------------------\u001b[0m",
      "\u001b[1;31mTypeError\u001b[0m                                 Traceback (most recent call last)",
      "\u001b[1;32m<ipython-input-39-f64b98fd444b>\u001b[0m in \u001b[0;36m<module>\u001b[1;34m\u001b[0m\n\u001b[1;32m----> 1\u001b[1;33m \u001b[0md\u001b[0m \u001b[1;33m=\u001b[0m \u001b[1;33m{\u001b[0m\u001b[1;33m{\u001b[0m\u001b[1;34m'df'\u001b[0m\u001b[1;33m:\u001b[0m\u001b[1;34m'dsfsdfg'\u001b[0m\u001b[1;33m}\u001b[0m\u001b[1;33m:\u001b[0m\u001b[1;34m'perm'\u001b[0m\u001b[1;33m}\u001b[0m\u001b[1;33m\u001b[0m\u001b[1;33m\u001b[0m\u001b[0m\n\u001b[0m",
      "\u001b[1;31mTypeError\u001b[0m: unhashable type: 'dict'"
     ]
    }
   ],
   "source": [
    "d = {{'df':'dsfsdfg'}:'perm'}"
   ]
  },
  {
   "cell_type": "code",
   "execution_count": 43,
   "id": "798682c5",
   "metadata": {},
   "outputs": [],
   "source": [
    "d1 = {'key1':23,\"flo\":0.454,'name':'PE',3:[1,2,34,445,45,12,[23,3244,46,{'fgd':'fgfd','df':[343,2335,54,{'poro':[2,3,4]}]}]],'s':{34,32,12,43,32},'t':(4545,32,54,564,232,453,6),'d':{'k':'fgrs','fg':'sdgfsd'}}"
   ]
  },
  {
   "cell_type": "code",
   "execution_count": 44,
   "id": "041465b5",
   "metadata": {},
   "outputs": [
    {
     "data": {
      "text/plain": [
       "{'key1': 23,\n",
       " 'flo': 0.454,\n",
       " 'name': 'PE',\n",
       " 3: [1,\n",
       "  2,\n",
       "  34,\n",
       "  445,\n",
       "  45,\n",
       "  12,\n",
       "  [23, 3244, 46, {'fgd': 'fgfd', 'df': [343, 2335, 54, {'poro': [2, 3, 4]}]}]],\n",
       " 's': {12, 32, 34, 43},\n",
       " 't': (4545, 32, 54, 564, 232, 453, 6),\n",
       " 'd': {'k': 'fgrs', 'fg': 'sdgfsd'}}"
      ]
     },
     "execution_count": 44,
     "metadata": {},
     "output_type": "execute_result"
    }
   ],
   "source": [
    "d1"
   ]
  },
  {
   "cell_type": "code",
   "execution_count": 45,
   "id": "12bbc021",
   "metadata": {},
   "outputs": [
    {
     "data": {
      "text/plain": [
       "'sdgfsd'"
      ]
     },
     "execution_count": 45,
     "metadata": {},
     "output_type": "execute_result"
    }
   ],
   "source": [
    "d1['d']['fg']"
   ]
  },
  {
   "cell_type": "code",
   "execution_count": 46,
   "id": "7635be4e",
   "metadata": {},
   "outputs": [
    {
     "data": {
      "text/plain": [
       "564"
      ]
     },
     "execution_count": 46,
     "metadata": {},
     "output_type": "execute_result"
    }
   ],
   "source": [
    "d1['t'][3]"
   ]
  },
  {
   "cell_type": "code",
   "execution_count": 47,
   "id": "7a565373",
   "metadata": {},
   "outputs": [
    {
     "data": {
      "text/plain": [
       "{12, 32, 34, 43}"
      ]
     },
     "execution_count": 47,
     "metadata": {},
     "output_type": "execute_result"
    }
   ],
   "source": [
    "d1['s']"
   ]
  },
  {
   "cell_type": "code",
   "execution_count": 50,
   "id": "49d54fb0",
   "metadata": {},
   "outputs": [
    {
     "data": {
      "text/plain": [
       "3"
      ]
     },
     "execution_count": 50,
     "metadata": {},
     "output_type": "execute_result"
    }
   ],
   "source": [
    "d1[3][6][3]['df'][3]['poro'][1]"
   ]
  },
  {
   "cell_type": "code",
   "execution_count": 51,
   "id": "4e103cfc",
   "metadata": {},
   "outputs": [
    {
     "data": {
      "text/plain": [
       "[2, 3, 4]"
      ]
     },
     "execution_count": 51,
     "metadata": {},
     "output_type": "execute_result"
    }
   ],
   "source": [
    "d1[3][6][3]['df'][3]['poro']"
   ]
  },
  {
   "cell_type": "code",
   "execution_count": 54,
   "id": "85ac14ac",
   "metadata": {},
   "outputs": [
    {
     "data": {
      "text/plain": [
       "[32, 34, 43, 12]"
      ]
     },
     "execution_count": 54,
     "metadata": {},
     "output_type": "execute_result"
    }
   ],
   "source": [
    "list(d1['s'])"
   ]
  },
  {
   "cell_type": "code",
   "execution_count": 55,
   "id": "a1015a54",
   "metadata": {},
   "outputs": [
    {
     "data": {
      "text/plain": [
       "34"
      ]
     },
     "execution_count": 55,
     "metadata": {},
     "output_type": "execute_result"
    }
   ],
   "source": [
    "list(d1['s'])[1]"
   ]
  },
  {
   "cell_type": "code",
   "execution_count": 56,
   "id": "5cc99730",
   "metadata": {},
   "outputs": [],
   "source": [
    "rock_properties = {'poro':porosity,'perm':pemebaility,'LITHOLOGY':lithology}"
   ]
  },
  {
   "cell_type": "code",
   "execution_count": 57,
   "id": "7bee95fc",
   "metadata": {},
   "outputs": [
    {
     "data": {
      "text/plain": [
       "{'poro': [0.2, 0.3, 0.5, 0.4],\n",
       " 'perm': [23, 45, 26, 478],\n",
       " 'LITHOLOGY': ('Limestone', 'Sandstone', 'Shale', 'Limestone')}"
      ]
     },
     "execution_count": 57,
     "metadata": {},
     "output_type": "execute_result"
    }
   ],
   "source": [
    "rock_properties"
   ]
  },
  {
   "cell_type": "code",
   "execution_count": 58,
   "id": "8e3970fd",
   "metadata": {},
   "outputs": [],
   "source": [
    "rock_properties['perm'] = [2,3,4,56]"
   ]
  },
  {
   "cell_type": "code",
   "execution_count": 59,
   "id": "cf00df2e",
   "metadata": {},
   "outputs": [
    {
     "data": {
      "text/plain": [
       "{'poro': [0.2, 0.3, 0.5, 0.4],\n",
       " 'perm': [2, 3, 4, 56],\n",
       " 'LITHOLOGY': ('Limestone', 'Sandstone', 'Shale', 'Limestone')}"
      ]
     },
     "execution_count": 59,
     "metadata": {},
     "output_type": "execute_result"
    }
   ],
   "source": [
    "rock_properties"
   ]
  },
  {
   "cell_type": "code",
   "execution_count": 60,
   "id": "16786049",
   "metadata": {},
   "outputs": [],
   "source": [
    "rock_properties['perm'].append(10)"
   ]
  },
  {
   "cell_type": "code",
   "execution_count": 61,
   "id": "d9408b19",
   "metadata": {},
   "outputs": [
    {
     "data": {
      "text/plain": [
       "{'poro': [0.2, 0.3, 0.5, 0.4],\n",
       " 'perm': [2, 3, 4, 56, 10],\n",
       " 'LITHOLOGY': ('Limestone', 'Sandstone', 'Shale', 'Limestone')}"
      ]
     },
     "execution_count": 61,
     "metadata": {},
     "output_type": "execute_result"
    }
   ],
   "source": [
    "rock_properties"
   ]
  },
  {
   "cell_type": "code",
   "execution_count": 62,
   "id": "ccf26346",
   "metadata": {},
   "outputs": [],
   "source": [
    "rock_properties['Swi'] = [0.2,0.5,0.4,0.9]"
   ]
  },
  {
   "cell_type": "code",
   "execution_count": 63,
   "id": "899b9918",
   "metadata": {},
   "outputs": [
    {
     "data": {
      "text/plain": [
       "{'poro': [0.2, 0.3, 0.5, 0.4],\n",
       " 'perm': [2, 3, 4, 56, 10],\n",
       " 'LITHOLOGY': ('Limestone', 'Sandstone', 'Shale', 'Limestone'),\n",
       " 'Swi': [0.2, 0.5, 0.4, 0.9]}"
      ]
     },
     "execution_count": 63,
     "metadata": {},
     "output_type": "execute_result"
    }
   ],
   "source": [
    "rock_properties"
   ]
  },
  {
   "cell_type": "code",
   "execution_count": 66,
   "id": "6e4c38ac",
   "metadata": {},
   "outputs": [
    {
     "data": {
      "text/plain": [
       "dict_keys(['poro', 'perm', 'LITHOLOGY', 'Swi'])"
      ]
     },
     "execution_count": 66,
     "metadata": {},
     "output_type": "execute_result"
    }
   ],
   "source": [
    "rock_properties.keys()"
   ]
  },
  {
   "cell_type": "code",
   "execution_count": 67,
   "id": "9e7cb995",
   "metadata": {},
   "outputs": [
    {
     "data": {
      "text/plain": [
       "dict_values([[0.2, 0.3, 0.5, 0.4], [2, 3, 4, 56, 10], ('Limestone', 'Sandstone', 'Shale', 'Limestone'), [0.2, 0.5, 0.4, 0.9]])"
      ]
     },
     "execution_count": 67,
     "metadata": {},
     "output_type": "execute_result"
    }
   ],
   "source": [
    "rock_properties.values()"
   ]
  },
  {
   "cell_type": "code",
   "execution_count": 71,
   "id": "23be21d9",
   "metadata": {},
   "outputs": [
    {
     "ename": "TypeError",
     "evalue": "values() takes no arguments (1 given)",
     "output_type": "error",
     "traceback": [
      "\u001b[1;31m---------------------------------------------------------------------------\u001b[0m",
      "\u001b[1;31mTypeError\u001b[0m                                 Traceback (most recent call last)",
      "\u001b[1;32m<ipython-input-71-6a671f010a08>\u001b[0m in \u001b[0;36m<module>\u001b[1;34m\u001b[0m\n\u001b[1;32m----> 1\u001b[1;33m \u001b[0mrock_properties\u001b[0m\u001b[1;33m.\u001b[0m\u001b[0mvalues\u001b[0m\u001b[1;33m(\u001b[0m\u001b[1;34m'LITHOLOGY'\u001b[0m\u001b[1;33m)\u001b[0m\u001b[1;33m\u001b[0m\u001b[1;33m\u001b[0m\u001b[0m\n\u001b[0m",
      "\u001b[1;31mTypeError\u001b[0m: values() takes no arguments (1 given)"
     ]
    }
   ],
   "source": [
    "rock_properties.values('LITHOLOGY')"
   ]
  },
  {
   "cell_type": "code",
   "execution_count": 68,
   "id": "464946d0",
   "metadata": {},
   "outputs": [
    {
     "data": {
      "text/plain": [
       "('Limestone', 'Sandstone', 'Shale', 'Limestone')"
      ]
     },
     "execution_count": 68,
     "metadata": {},
     "output_type": "execute_result"
    }
   ],
   "source": [
    "rock_properties.pop('LITHOLOGY')"
   ]
  },
  {
   "cell_type": "markdown",
   "id": "749da65c",
   "metadata": {},
   "source": [
    "## Summary of Data Structure:\n",
    "Lists: Mutables, Empty list are heavily used to populate it later during program. [__]\n",
    "Tuples: Immutable, data cannot be changed, store sensitive information. (___)\n",
    "Sets: Unordered, Uniqueness of Elements. {__}\n",
    "Dictionary: Key value pairs, mutable, {key:value}"
   ]
  },
  {
   "cell_type": "markdown",
   "id": "8e2818c1",
   "metadata": {},
   "source": [
    "## For"
   ]
  },
  {
   "cell_type": "code",
   "execution_count": 1,
   "id": "12f12df5",
   "metadata": {},
   "outputs": [],
   "source": [
    "poro = (0.2,0.3,0.4,0.5,0.6,0.8)"
   ]
  },
  {
   "cell_type": "code",
   "execution_count": 2,
   "id": "2df3b962",
   "metadata": {},
   "outputs": [
    {
     "name": "stdout",
     "output_type": "stream",
     "text": [
      "0.2\n",
      "0.3\n",
      "0.4\n",
      "0.5\n",
      "0.6\n",
      "0.8\n",
      "Outside for loop\n",
      "0.8\n"
     ]
    }
   ],
   "source": [
    "for Nilesh in poro:\n",
    "    print(Nilesh)\n",
    "print('Outside for loop')\n",
    "print(Nilesh)"
   ]
  },
  {
   "cell_type": "code",
   "execution_count": 3,
   "id": "343e5d5b",
   "metadata": {},
   "outputs": [],
   "source": [
    "s = 'Petroleum'"
   ]
  },
  {
   "cell_type": "code",
   "execution_count": 8,
   "id": "1e345afa",
   "metadata": {},
   "outputs": [
    {
     "name": "stdout",
     "output_type": "stream",
     "text": [
      "P\n",
      "e\n",
      "t\n",
      "r\n",
      "o\n",
      "l\n",
      "e\n",
      "u\n",
      "m\n"
     ]
    }
   ],
   "source": [
    "for i in s:\n",
    "    print (i)"
   ]
  },
  {
   "cell_type": "code",
   "execution_count": 9,
   "id": "6754a186",
   "metadata": {},
   "outputs": [],
   "source": [
    "poro = [0.2,0.3,0.4,0.5,0.6,0.8]"
   ]
  },
  {
   "cell_type": "code",
   "execution_count": 10,
   "id": "821336bf",
   "metadata": {},
   "outputs": [
    {
     "name": "stdout",
     "output_type": "stream",
     "text": [
      "20.0\n",
      "30.0\n",
      "40.0\n",
      "50.0\n",
      "60.0\n",
      "80.0\n"
     ]
    }
   ],
   "source": [
    "for i in poro:\n",
    "    print(i*100)"
   ]
  },
  {
   "cell_type": "code",
   "execution_count": 11,
   "id": "e882b290",
   "metadata": {},
   "outputs": [
    {
     "data": {
      "text/plain": [
       "6"
      ]
     },
     "execution_count": 11,
     "metadata": {},
     "output_type": "execute_result"
    }
   ],
   "source": [
    "len(poro)"
   ]
  },
  {
   "cell_type": "code",
   "execution_count": 12,
   "id": "7ca66009",
   "metadata": {},
   "outputs": [],
   "source": [
    "for i in range(6):\n",
    "    poro[i] = poro[i]*100"
   ]
  },
  {
   "cell_type": "code",
   "execution_count": 13,
   "id": "37607e5a",
   "metadata": {},
   "outputs": [
    {
     "data": {
      "text/plain": [
       "[20.0, 30.0, 40.0, 50.0, 60.0, 80.0]"
      ]
     },
     "execution_count": 13,
     "metadata": {},
     "output_type": "execute_result"
    }
   ],
   "source": [
    "poro"
   ]
  },
  {
   "cell_type": "code",
   "execution_count": 14,
   "id": "993dee7c",
   "metadata": {},
   "outputs": [],
   "source": [
    "poro_perc = []\n",
    "for i in poro:\n",
    "    a =i*100\n",
    "    poro_perc.append(a)"
   ]
  },
  {
   "cell_type": "code",
   "execution_count": 15,
   "id": "c7d87bb5",
   "metadata": {},
   "outputs": [
    {
     "data": {
      "text/plain": [
       "[2000.0, 3000.0, 4000.0, 5000.0, 6000.0, 8000.0]"
      ]
     },
     "execution_count": 15,
     "metadata": {},
     "output_type": "execute_result"
    }
   ],
   "source": [
    "poro_perc"
   ]
  },
  {
   "cell_type": "markdown",
   "id": "40e68fe4",
   "metadata": {},
   "source": [
    "## api = (141.5/specific gravity) - 131.5"
   ]
  },
  {
   "cell_type": "code",
   "execution_count": 16,
   "id": "0395446e",
   "metadata": {},
   "outputs": [],
   "source": [
    "Specific_gravity = (0.2,0.3,0.75,0.5,0.9,1,0.46)"
   ]
  },
  {
   "cell_type": "code",
   "execution_count": 23,
   "id": "f5523f2a",
   "metadata": {},
   "outputs": [
    {
     "name": "stdout",
     "output_type": "stream",
     "text": [
      "The api gravity for crude correnspond to specific gravity 0.2 is 576.0\n",
      "The api gravity for crude correnspond to specific gravity 0.3 is 340.17\n",
      "The api gravity for crude correnspond to specific gravity 0.75 is 57.17\n",
      "The api gravity for crude correnspond to specific gravity 0.5 is 151.5\n",
      "The api gravity for crude correnspond to specific gravity 0.9 is 25.72\n",
      "The api gravity for crude correnspond to specific gravity 1 is 10.0\n",
      "The api gravity for crude correnspond to specific gravity 0.46 is 176.11\n"
     ]
    }
   ],
   "source": [
    "API_gravity = []\n",
    "for i in Specific_gravity:\n",
    "    api = (141.5/i)-131.5\n",
    "    print(f'The api gravity for crude correnspond to specific gravity {i} is {round(api,2)}')\n",
    "    API_gravity.append(api)    "
   ]
  },
  {
   "cell_type": "code",
   "execution_count": 24,
   "id": "3089955b",
   "metadata": {},
   "outputs": [
    {
     "data": {
      "text/plain": [
       "[576.0,\n",
       " 340.1666666666667,\n",
       " 57.16666666666666,\n",
       " 151.5,\n",
       " 25.72222222222223,\n",
       " 10.0,\n",
       " 176.10869565217388]"
      ]
     },
     "execution_count": 24,
     "metadata": {},
     "output_type": "execute_result"
    }
   ],
   "source": [
    "API_gravity"
   ]
  },
  {
   "cell_type": "markdown",
   "id": "5f4b0379",
   "metadata": {},
   "source": [
    "## else : for 'for' loop"
   ]
  },
  {
   "cell_type": "code",
   "execution_count": 25,
   "id": "ba10667b",
   "metadata": {},
   "outputs": [
    {
     "name": "stdout",
     "output_type": "stream",
     "text": [
      "The api gravity for crude correnspond to specific gravity 0.2 is 576.0\n",
      "The api gravity for crude correnspond to specific gravity 0.3 is 340.17\n",
      "The api gravity for crude correnspond to specific gravity 0.75 is 57.17\n",
      "The api gravity for crude correnspond to specific gravity 0.5 is 151.5\n",
      "The api gravity for crude correnspond to specific gravity 0.9 is 25.72\n",
      "The api gravity for crude correnspond to specific gravity 1 is 10.0\n",
      "The api gravity for crude correnspond to specific gravity 0.46 is 176.11\n",
      "Execution Completed\n"
     ]
    }
   ],
   "source": [
    "API_Gravity = []\n",
    "for i in Specific_gravity:\n",
    "    api = (141.5/i)-131.5\n",
    "    print(f'The api gravity for crude correnspond to specific gravity {i} is {round(api,2)}')\n",
    "    API_Gravity.append(api)\n",
    "        \n",
    "else:\n",
    "    print('Execution Completed')"
   ]
  },
  {
   "cell_type": "markdown",
   "id": "a8c9bfe9",
   "metadata": {},
   "source": [
    "## for nested loop"
   ]
  },
  {
   "cell_type": "code",
   "execution_count": 27,
   "id": "07dde989",
   "metadata": {},
   "outputs": [],
   "source": [
    "perm = [1, 2, 3, 4, 56, 7, 1, 25, 45]"
   ]
  },
  {
   "cell_type": "code",
   "execution_count": 28,
   "id": "32ef09a2",
   "metadata": {},
   "outputs": [
    {
     "data": {
      "text/plain": [
       "[1, 2, 3, 4, 56, 7, 1, 25, 45]"
      ]
     },
     "execution_count": 28,
     "metadata": {},
     "output_type": "execute_result"
    }
   ],
   "source": [
    "perm"
   ]
  },
  {
   "cell_type": "code",
   "execution_count": 29,
   "id": "17847a0f",
   "metadata": {},
   "outputs": [
    {
     "data": {
      "text/plain": [
       "(0.2, 0.3, 0.75, 0.5, 0.9, 1, 0.46)"
      ]
     },
     "execution_count": 29,
     "metadata": {},
     "output_type": "execute_result"
    }
   ],
   "source": [
    "Specific_gravity"
   ]
  },
  {
   "cell_type": "code",
   "execution_count": 32,
   "id": "d27b742c",
   "metadata": {},
   "outputs": [
    {
     "name": "stdout",
     "output_type": "stream",
     "text": [
      "The perm is 1\n",
      "0.2\n",
      "0.3\n",
      "0.75\n",
      "0.5\n",
      "0.9\n",
      "1\n",
      "0.46\n",
      "Execution Completed\n",
      "The perm is 2\n",
      "0.2\n",
      "0.3\n",
      "0.75\n",
      "0.5\n",
      "0.9\n",
      "1\n",
      "0.46\n",
      "Execution Completed\n",
      "The perm is 3\n",
      "0.2\n",
      "0.3\n",
      "0.75\n",
      "0.5\n",
      "0.9\n",
      "1\n",
      "0.46\n",
      "Execution Completed\n",
      "The perm is 4\n",
      "0.2\n",
      "0.3\n",
      "0.75\n",
      "0.5\n",
      "0.9\n",
      "1\n",
      "0.46\n",
      "Execution Completed\n",
      "The perm is 56\n",
      "0.2\n",
      "0.3\n",
      "0.75\n",
      "0.5\n",
      "0.9\n",
      "1\n",
      "0.46\n",
      "Execution Completed\n",
      "The perm is 7\n",
      "0.2\n",
      "0.3\n",
      "0.75\n",
      "0.5\n",
      "0.9\n",
      "1\n",
      "0.46\n",
      "Execution Completed\n",
      "The perm is 1\n",
      "0.2\n",
      "0.3\n",
      "0.75\n",
      "0.5\n",
      "0.9\n",
      "1\n",
      "0.46\n",
      "Execution Completed\n",
      "The perm is 25\n",
      "0.2\n",
      "0.3\n",
      "0.75\n",
      "0.5\n",
      "0.9\n",
      "1\n",
      "0.46\n",
      "Execution Completed\n",
      "The perm is 45\n",
      "0.2\n",
      "0.3\n",
      "0.75\n",
      "0.5\n",
      "0.9\n",
      "1\n",
      "0.46\n",
      "Execution Completed\n"
     ]
    }
   ],
   "source": [
    "for i in perm:\n",
    "    print(f'The perm is {i}')\n",
    "    for j in Specific_gravity:\n",
    "        print(j)\n",
    "    else:\n",
    "        print('Execution Completed')"
   ]
  },
  {
   "cell_type": "code",
   "execution_count": 33,
   "id": "67ccd7a4",
   "metadata": {},
   "outputs": [
    {
     "name": "stdout",
     "output_type": "stream",
     "text": [
      "The perm is 1\n",
      "The perm is 2\n",
      "The perm is 3\n",
      "The perm is 4\n",
      "The perm is 56\n",
      "The perm is 7\n",
      "The perm is 1\n",
      "The perm is 25\n",
      "The perm is 45\n",
      "The specifi gravity is 0.2\n",
      "The specifi gravity is 0.3\n",
      "The specifi gravity is 0.75\n",
      "The specifi gravity is 0.5\n",
      "The specifi gravity is 0.9\n",
      "The specifi gravity is 1\n",
      "The specifi gravity is 0.46\n"
     ]
    }
   ],
   "source": [
    "for i in perm:\n",
    "    print(f'The perm is {i}')\n",
    "else:\n",
    "    for j in Specific_gravity:\n",
    "        print(f'The specifi gravity is {j}')"
   ]
  },
  {
   "cell_type": "markdown",
   "id": "1e7960a9",
   "metadata": {},
   "source": [
    "## ZIP"
   ]
  },
  {
   "cell_type": "code",
   "execution_count": 34,
   "id": "cbeec30e",
   "metadata": {},
   "outputs": [],
   "source": [
    "perm = [1,2,3,4,5]\n",
    "specific_grav = [0.3,0.5,0.7,0.8,0.9,0.6767]\n",
    "porosity = [0.3,0.6,0.9]"
   ]
  },
  {
   "cell_type": "code",
   "execution_count": 35,
   "id": "ce11613b",
   "metadata": {},
   "outputs": [
    {
     "data": {
      "text/plain": [
       "<zip at 0x14159fe45c0>"
      ]
     },
     "execution_count": 35,
     "metadata": {},
     "output_type": "execute_result"
    }
   ],
   "source": [
    "zip(perm,specific_grav,porosity)"
   ]
  },
  {
   "cell_type": "code",
   "execution_count": 36,
   "id": "40567f79",
   "metadata": {},
   "outputs": [
    {
     "data": {
      "text/plain": [
       "zip"
      ]
     },
     "execution_count": 36,
     "metadata": {},
     "output_type": "execute_result"
    }
   ],
   "source": [
    "type(zip(perm,specific_grav,porosity))"
   ]
  },
  {
   "cell_type": "code",
   "execution_count": 37,
   "id": "6c0d936e",
   "metadata": {},
   "outputs": [
    {
     "data": {
      "text/plain": [
       "[(1, 0.3, 0.3), (2, 0.5, 0.6), (3, 0.7, 0.9)]"
      ]
     },
     "execution_count": 37,
     "metadata": {},
     "output_type": "execute_result"
    }
   ],
   "source": [
    "list(zip(perm,specific_grav,porosity))"
   ]
  },
  {
   "cell_type": "code",
   "execution_count": 38,
   "id": "e972ef20",
   "metadata": {},
   "outputs": [
    {
     "name": "stdout",
     "output_type": "stream",
     "text": [
      "The permeability is 1\n",
      "The specific gravity is 0.3\n",
      "The permeability is 2\n",
      "The specific gravity is 0.5\n",
      "The permeability is 3\n",
      "The specific gravity is 0.7\n",
      "The permeability is 4\n",
      "The specific gravity is 0.8\n",
      "The permeability is 5\n",
      "The specific gravity is 0.9\n"
     ]
    }
   ],
   "source": [
    "for i,j in zip(perm,specific_grav):\n",
    "    print(f'The permeability is {i}')\n",
    "    print(f'The specific gravity is {j}')"
   ]
  },
  {
   "cell_type": "code",
   "execution_count": 39,
   "id": "b90bc913",
   "metadata": {},
   "outputs": [
    {
     "name": "stdout",
     "output_type": "stream",
     "text": [
      " The value of c is 1.0\n",
      " The value of c is 2.4\n",
      " The value of c is 3.8571428571428577\n"
     ]
    }
   ],
   "source": [
    "for i,j,k in zip(perm,porosity,specific_grav):\n",
    "    c = (i*j)/k\n",
    "    print(f' The value of c is {c}')"
   ]
  },
  {
   "cell_type": "code",
   "execution_count": 40,
   "id": "5ca6684a",
   "metadata": {},
   "outputs": [],
   "source": [
    "perm = [1,2,3]\n",
    "field_name = ['neelam','panna','volve']\n",
    "porosity = [0.2,0.3,0.4]\n",
    "\n",
    "\n",
    "#Print = In field _____ , the value of porosity(%) is _____ and perm is ____"
   ]
  },
  {
   "cell_type": "code",
   "execution_count": 41,
   "id": "ce2cc17e",
   "metadata": {},
   "outputs": [
    {
     "name": "stdout",
     "output_type": "stream",
     "text": [
      "in the filed neelam, the value of porosity is 20.0% and perm is 1\n",
      "in the filed panna, the value of porosity is 30.0% and perm is 2\n",
      "in the filed volve, the value of porosity is 40.0% and perm is 3\n"
     ]
    }
   ],
   "source": [
    "for i,j,k in zip(perm, field_name, porosity):\n",
    "    print(f'in the filed {j}, the value of porosity is {k*100}% and perm is {i}')"
   ]
  },
  {
   "cell_type": "code",
   "execution_count": 42,
   "id": "0fa4101d",
   "metadata": {},
   "outputs": [
    {
     "data": {
      "text/plain": [
       "[(1, 'neelam', 0.2), (2, 'panna', 0.3), (3, 'volve', 0.4)]"
      ]
     },
     "execution_count": 42,
     "metadata": {},
     "output_type": "execute_result"
    }
   ],
   "source": [
    "list(zip(perm, field_name, porosity))"
   ]
  },
  {
   "cell_type": "code",
   "execution_count": 43,
   "id": "61a9b6bd",
   "metadata": {},
   "outputs": [],
   "source": [
    "rock = {'field':[],'porosity':[],'permeability':[]}"
   ]
  },
  {
   "cell_type": "code",
   "execution_count": 44,
   "id": "9e32675d",
   "metadata": {},
   "outputs": [
    {
     "data": {
      "text/plain": [
       "{'field': [], 'porosity': [], 'permeability': []}"
      ]
     },
     "execution_count": 44,
     "metadata": {},
     "output_type": "execute_result"
    }
   ],
   "source": [
    "rock"
   ]
  },
  {
   "cell_type": "code",
   "execution_count": 45,
   "id": "e71f6fd6",
   "metadata": {},
   "outputs": [],
   "source": [
    "for i,j,k in zip(field_name,porosity,perm):\n",
    "    rock['field'].append(i)\n",
    "    rock['porosity'].append(j)\n",
    "    rock['permeability'].append(k)"
   ]
  },
  {
   "cell_type": "code",
   "execution_count": 46,
   "id": "62d52edf",
   "metadata": {},
   "outputs": [
    {
     "data": {
      "text/plain": [
       "{'field': ['neelam', 'panna', 'volve'],\n",
       " 'porosity': [0.2, 0.3, 0.4],\n",
       " 'permeability': [1, 2, 3]}"
      ]
     },
     "execution_count": 46,
     "metadata": {},
     "output_type": "execute_result"
    }
   ],
   "source": [
    "rock"
   ]
  },
  {
   "cell_type": "markdown",
   "id": "3a22344d",
   "metadata": {},
   "source": [
    "## If else"
   ]
  },
  {
   "cell_type": "code",
   "execution_count": 47,
   "id": "81e8662f",
   "metadata": {},
   "outputs": [
    {
     "name": "stdout",
     "output_type": "stream",
     "text": [
      "five is greater than 2\n"
     ]
    }
   ],
   "source": [
    "if 5>2:\n",
    "    print('five is greater than 2')\n",
    "else:\n",
    "    print(' If loop not executed')"
   ]
  },
  {
   "cell_type": "code",
   "execution_count": 49,
   "id": "f48d8e32",
   "metadata": {},
   "outputs": [
    {
     "name": "stdout",
     "output_type": "stream",
     "text": [
      "Always\n",
      "This is outside of loops\n"
     ]
    }
   ],
   "source": [
    "if 5==5:\n",
    "    print('Always')\n",
    "    \n",
    "else:\n",
    "    print('no if executed')\n",
    "    \n",
    "print('This is outside of loops')"
   ]
  },
  {
   "cell_type": "code",
   "execution_count": 50,
   "id": "c23a7198",
   "metadata": {},
   "outputs": [
    {
     "name": "stdout",
     "output_type": "stream",
     "text": [
      "It will always run\n"
     ]
    }
   ],
   "source": [
    "if True:\n",
    "    print('It will always run')"
   ]
  },
  {
   "cell_type": "code",
   "execution_count": 51,
   "id": "8861f7d2",
   "metadata": {},
   "outputs": [
    {
     "name": "stdout",
     "output_type": "stream",
     "text": [
      "Always else will run here\n"
     ]
    }
   ],
   "source": [
    "if False:\n",
    "    print('no need to try')\n",
    "else:\n",
    "    print('Always else will run here')"
   ]
  },
  {
   "cell_type": "code",
   "execution_count": 52,
   "id": "a6c2d409",
   "metadata": {},
   "outputs": [
    {
     "name": "stdout",
     "output_type": "stream",
     "text": [
      "Enter the reservoir pressure(psi):  2500\n",
      "Enter the Hydrostatic pressure of mud(psi):  800\n",
      "Enter the fracture pressure of rock(psi):  3000\n"
     ]
    }
   ],
   "source": [
    "Reservoir_pressure = float(input('Enter the reservoir pressure(psi):  '))\n",
    "Hydrostatic_pressure = float(input('Enter the Hydrostatic pressure of mud(psi):  '))\n",
    "fracture_pressure = float(input('Enter the fracture pressure of rock(psi):  '))"
   ]
  },
  {
   "cell_type": "code",
   "execution_count": 54,
   "id": "3893e635",
   "metadata": {},
   "outputs": [
    {
     "name": "stdout",
     "output_type": "stream",
     "text": [
      "Alert - Risk of kick\n"
     ]
    }
   ],
   "source": [
    "if Hydrostatic_pressure> Reservoir_pressure and Hydrostatic_pressure < fracture_pressure:\n",
    "    print('Reservoir Pressure is lesser than HP, so no kick')\n",
    "    print('HP is lesser than FP, so no fracture')\n",
    "    print('Safe Zone')\n",
    "    \n",
    "elif Hydrostatic_pressure>Reservoir_pressure and Hydrostatic_pressure > fracture_pressure:\n",
    "    print('HP gretarer than both FP and RP')\n",
    "    print('ALert!! Risk of formation fracture')\n",
    "    \n",
    "else:\n",
    "    print('Alert - Risk of kick')"
   ]
  },
  {
   "cell_type": "markdown",
   "id": "94275542",
   "metadata": {},
   "source": [
    "## while loop"
   ]
  },
  {
   "cell_type": "code",
   "execution_count": 2,
   "id": "b5b868c1",
   "metadata": {},
   "outputs": [
    {
     "name": "stdout",
     "output_type": "stream",
     "text": [
      "2\n",
      "4\n",
      "6\n",
      "Out of loop\n"
     ]
    }
   ],
   "source": [
    "a = 2 \n",
    "while a<7:\n",
    "    print(a)\n",
    "    a+=2\n",
    "print('Out of loop')"
   ]
  },
  {
   "cell_type": "code",
   "execution_count": 3,
   "id": "74142521",
   "metadata": {},
   "outputs": [
    {
     "name": "stdout",
     "output_type": "stream",
     "text": [
      "23\n",
      "344\n",
      "7676\n",
      "87\n"
     ]
    }
   ],
   "source": [
    "l = [23,344,7676,87]\n",
    "for i in l:\n",
    "    print(i)"
   ]
  },
  {
   "cell_type": "code",
   "execution_count": 4,
   "id": "d596f57f",
   "metadata": {},
   "outputs": [
    {
     "data": {
      "text/plain": [
       "[23, 344, 7676, 87]"
      ]
     },
     "execution_count": 4,
     "metadata": {},
     "output_type": "execute_result"
    }
   ],
   "source": [
    "l"
   ]
  },
  {
   "cell_type": "code",
   "execution_count": 7,
   "id": "48386b51",
   "metadata": {},
   "outputs": [
    {
     "name": "stdout",
     "output_type": "stream",
     "text": [
      "23\n",
      "344\n",
      "7676\n",
      "87\n"
     ]
    }
   ],
   "source": [
    "i = 0\n",
    "while i<len(l):\n",
    "    print(l[i])\n",
    "    i+=1"
   ]
  },
  {
   "cell_type": "code",
   "execution_count": 11,
   "id": "0853f76d",
   "metadata": {},
   "outputs": [],
   "source": [
    "specific_grav = [0.3, 0.5, 0.7, 0.8, 0.9, 0.6767]"
   ]
  },
  {
   "cell_type": "code",
   "execution_count": 12,
   "id": "809ccc8b",
   "metadata": {},
   "outputs": [
    {
     "data": {
      "text/plain": [
       "[0.3, 0.5, 0.7, 0.8, 0.9, 0.6767]"
      ]
     },
     "execution_count": 12,
     "metadata": {},
     "output_type": "execute_result"
    }
   ],
   "source": [
    "specific_grav"
   ]
  },
  {
   "cell_type": "code",
   "execution_count": 13,
   "id": "34dd2523",
   "metadata": {},
   "outputs": [],
   "source": [
    "api = []\n",
    "i = 0\n",
    "while i<len(specific_grav):    \n",
    "    ap = (141.5/specific_grav[i]) - 131.5\n",
    "    api.append(ap)\n",
    "    i+=1"
   ]
  },
  {
   "cell_type": "code",
   "execution_count": 14,
   "id": "a6dc4ad7",
   "metadata": {},
   "outputs": [
    {
     "data": {
      "text/plain": [
       "[340.1666666666667,\n",
       " 151.5,\n",
       " 70.64285714285717,\n",
       " 45.375,\n",
       " 25.72222222222223,\n",
       " 77.60299985222403]"
      ]
     },
     "execution_count": 14,
     "metadata": {},
     "output_type": "execute_result"
    }
   ],
   "source": [
    "api"
   ]
  },
  {
   "cell_type": "markdown",
   "id": "efaf0b3f",
   "metadata": {},
   "source": [
    "## Break"
   ]
  },
  {
   "cell_type": "code",
   "execution_count": 1,
   "id": "4a24d7c8",
   "metadata": {},
   "outputs": [
    {
     "name": "stdout",
     "output_type": "stream",
     "text": [
      "Keep running\n",
      "Keep running\n",
      "Keep running\n",
      "Keep running\n",
      "Keep running\n",
      "Keep running\n",
      "Keep running\n",
      "Keep running\n"
     ]
    }
   ],
   "source": [
    "a = 0\n",
    "while True:\n",
    "    print('Keep running')\n",
    "    a+=1\n",
    "    if a ==8:\n",
    "        break"
   ]
  },
  {
   "cell_type": "code",
   "execution_count": 2,
   "id": "1a63da9d",
   "metadata": {},
   "outputs": [
    {
     "name": "stdout",
     "output_type": "stream",
     "text": [
      "1\n",
      "2\n",
      "3\n"
     ]
    }
   ],
   "source": [
    "x = 0 \n",
    "while x<7:\n",
    "    x+=1\n",
    "    if x ==4:\n",
    "        break\n",
    "    print(x)"
   ]
  },
  {
   "cell_type": "code",
   "execution_count": 11,
   "id": "e9b7c439",
   "metadata": {},
   "outputs": [
    {
     "name": "stdout",
     "output_type": "stream",
     "text": [
      "Formation Pressure is 2500 psi\n",
      "Formation Pressure is 2600 psi\n",
      "Formation Pressure is 2700 psi\n",
      "Formation Pressure is 2800 psi\n",
      "Formation Pressure is 2900 psi\n",
      "Formation Pressure is 3000 psi\n",
      "Formation Pressure is 3100 psi\n",
      "Formation Pressure is 3200 psi\n",
      "Formation Pressure is 3300 psi\n",
      "Formation Pressure is 3400 psi\n",
      "Formation Pressure is 3500 psi\n",
      "Formation Pressure is 3600 psi\n",
      "Formation Pressure is 3700 psi\n",
      "Formation Pressure is 3800 psi\n",
      "Formation Pressure is 3900 psi\n",
      "Formation Pressure is 4000 psi\n",
      "Formation Pressure is 4100 psi\n",
      "Formation Pressure is 4200 psi\n",
      "Formation Pressure is 4300 psi\n",
      "Formation Pressure is 4400 psi\n",
      "Formation Pressure is 4500 psi\n",
      "Formation Pressure is 4600 psi\n",
      "Formation Pressure is 4700 psi\n",
      "Formation Pressure is 4800 psi\n",
      "Formation Pressure is 4900 psi\n",
      "Pressure Reached its maximum value 5000 psi, so breaking the loop\n",
      "Completed\n"
     ]
    }
   ],
   "source": [
    "pressure = 2500\n",
    "while True:\n",
    "    print(f'Formation Pressure is {pressure} psi')\n",
    "    pressure+=100\n",
    "    if pressure ==5000:\n",
    "        print('Pressure Reached its maximum value 5000 psi, so breaking the loop')\n",
    "        break\n",
    "print('Completed')"
   ]
  },
  {
   "cell_type": "markdown",
   "id": "fb10e2a5",
   "metadata": {},
   "source": [
    "## Continue"
   ]
  },
  {
   "cell_type": "code",
   "execution_count": 14,
   "id": "c125334a",
   "metadata": {},
   "outputs": [
    {
     "name": "stdout",
     "output_type": "stream",
     "text": [
      "0\n",
      "1\n",
      "2\n",
      "3\n",
      "Skipping the 4\n",
      "5\n",
      "6\n",
      "check done\n"
     ]
    }
   ],
   "source": [
    "for i in range(7):\n",
    "    if i ==4:\n",
    "        print('Skipping the 4')\n",
    "        continue\n",
    "    else:\n",
    "        print(i)\n",
    "print('check done')"
   ]
  },
  {
   "cell_type": "code",
   "execution_count": 16,
   "id": "bff88f19",
   "metadata": {},
   "outputs": [
    {
     "name": "stdout",
     "output_type": "stream",
     "text": [
      "pressure is 3600\n",
      "pressure is 3700\n",
      "pressure is 3800\n",
      "pressure is 3900\n",
      "pressure is 4000\n",
      "skipping 4000 psi\n",
      "pressure is 4100\n",
      "pressure is 4200\n",
      "pressure is 4300\n",
      "pressure is 4400\n",
      "pressure is 4500\n"
     ]
    }
   ],
   "source": [
    "pressure=3500\n",
    "while True:\n",
    "    pressure+=100\n",
    "    print(f'pressure is {pressure}')\n",
    "    if pressure==4000:\n",
    "        print('skipping 4000 psi')\n",
    "        continue\n",
    "    if pressure==4500:\n",
    "        break  \n"
   ]
  },
  {
   "cell_type": "code",
   "execution_count": 28,
   "id": "d1e2e183",
   "metadata": {},
   "outputs": [
    {
     "name": "stdout",
     "output_type": "stream",
     "text": [
      "Pressure is 3600 psi\n",
      "Pressure is 3700 psi\n",
      "Pressure is 3800 psi\n",
      "Pressure is 3900 psi\n",
      "Skipping 4000 psi\n"
     ]
    }
   ],
   "source": [
    "pressure = 3500\n",
    "while pressure < 4500:\n",
    "    pressure+=100\n",
    "    if pressure ==4000:\n",
    "        print('Skipping 4000 psi')\n",
    "        break\n",
    "    print(f'Pressure is {pressure} psi')     "
   ]
  },
  {
   "cell_type": "markdown",
   "id": "21ceaad9",
   "metadata": {},
   "source": [
    "## Functions in Python"
   ]
  },
  {
   "cell_type": "markdown",
   "id": "8ff472e1",
   "metadata": {},
   "source": [
    "   $ a*x^2 + b*x + c = 0 $ "
   ]
  },
  {
   "cell_type": "code",
   "execution_count": 29,
   "id": "7dc191a0",
   "metadata": {},
   "outputs": [
    {
     "name": "stdout",
     "output_type": "stream",
     "text": [
      "Enter a: 5\n",
      "Enter b: 2\n",
      "Enter c: 3\n",
      "Enter x: 1\n",
      "fx = 10.0\n"
     ]
    }
   ],
   "source": [
    "a = float(input('Enter a: '))\n",
    "b = float(input('Enter b: '))\n",
    "c = float(input('Enter c: '))\n",
    "x = float(input('Enter x: '))\n",
    "\n",
    "fx = a*x**2 + b*x + c\n",
    "\n",
    "print(f'fx = {fx}')"
   ]
  },
  {
   "cell_type": "markdown",
   "id": "dd1808d9",
   "metadata": {},
   "source": [
    "#### Syntax of a function\n",
    "\n",
    "def my_func_name(param1, param2....):\n",
    "\n",
    ".....BLOCK OF CODE"
   ]
  },
  {
   "cell_type": "code",
   "execution_count": 1,
   "id": "6aedf71c",
   "metadata": {},
   "outputs": [],
   "source": [
    "def func_name(p1=2, p2=3):\n",
    "    #BLOCK of CODE\n",
    "    pass"
   ]
  },
  {
   "cell_type": "code",
   "execution_count": 2,
   "id": "47a8ee19",
   "metadata": {},
   "outputs": [],
   "source": [
    "#1. FUNCTION DEFINTION\n",
    "def my_quadratic_fn(a, b, c, x):\n",
    "    \n",
    "    fx = a*x**2 + b*x + c\n",
    "    \n",
    "    return fx"
   ]
  },
  {
   "cell_type": "code",
   "execution_count": 5,
   "id": "a397c65f",
   "metadata": {},
   "outputs": [
    {
     "name": "stdout",
     "output_type": "stream",
     "text": [
      "75\n"
     ]
    }
   ],
   "source": [
    "#2. FUNCTION CALL/EXECUTION\n",
    "\n",
    "fx = my_quadratic_fn(a=5, b=2, c=3, x=-4)\n",
    "\n",
    "print(fx)"
   ]
  },
  {
   "cell_type": "code",
   "execution_count": 6,
   "id": "06be37bf",
   "metadata": {},
   "outputs": [],
   "source": [
    "def squarer(x):\n",
    "    x_squared = x**2\n",
    "    temp = x_squared/2\n",
    "    return x_squared, temp"
   ]
  },
  {
   "cell_type": "code",
   "execution_count": 13,
   "id": "394ce0cd",
   "metadata": {},
   "outputs": [],
   "source": [
    "x_squared, temp = squarer(5)"
   ]
  },
  {
   "cell_type": "code",
   "execution_count": 14,
   "id": "5c0fef42",
   "metadata": {},
   "outputs": [
    {
     "name": "stdout",
     "output_type": "stream",
     "text": [
      "25\n"
     ]
    }
   ],
   "source": [
    "print(x_squared)"
   ]
  },
  {
   "cell_type": "code",
   "execution_count": 15,
   "id": "90b2616e",
   "metadata": {},
   "outputs": [
    {
     "name": "stdout",
     "output_type": "stream",
     "text": [
      "12.5\n"
     ]
    }
   ],
   "source": [
    "print(temp)"
   ]
  },
  {
   "cell_type": "code",
   "execution_count": 16,
   "id": "a5de7353",
   "metadata": {},
   "outputs": [],
   "source": [
    "def greet_my_audience(x=3, y=5):\n",
    "    print('Hey! Nilesh wishes you a good day!')\n",
    "    z = x+ y\n",
    "    \n",
    "    return z"
   ]
  },
  {
   "cell_type": "code",
   "execution_count": 18,
   "id": "c773ef6f",
   "metadata": {},
   "outputs": [
    {
     "name": "stdout",
     "output_type": "stream",
     "text": [
      "Hey! Nilesh wishes you a good day!\n",
      "10\n"
     ]
    }
   ],
   "source": [
    "z = greet_my_audience(5,5)\n",
    "print(z)"
   ]
  },
  {
   "cell_type": "markdown",
   "id": "37b5b4f8",
   "metadata": {},
   "source": [
    "NOTE : Whatever you calculate inside the function, is not available to the outside world. So, if you need to make it available to the outisde, you need to \"return\" it to the external world"
   ]
  },
  {
   "cell_type": "markdown",
   "id": "00625e39",
   "metadata": {},
   "source": [
    "## *args ---> In order to create a function with flexible num of inputs"
   ]
  },
  {
   "cell_type": "code",
   "execution_count": 19,
   "id": "2539783c",
   "metadata": {},
   "outputs": [],
   "source": [
    "def func1(x1, x2=3):\n",
    "    print(x1)\n",
    "    print(x2)"
   ]
  },
  {
   "cell_type": "code",
   "execution_count": 20,
   "id": "a3ca03dd",
   "metadata": {},
   "outputs": [
    {
     "name": "stdout",
     "output_type": "stream",
     "text": [
      "1\n",
      "3\n"
     ]
    }
   ],
   "source": [
    "func1(1)"
   ]
  },
  {
   "cell_type": "code",
   "execution_count": 21,
   "id": "9b4463f5",
   "metadata": {},
   "outputs": [
    {
     "name": "stdout",
     "output_type": "stream",
     "text": [
      "1\n",
      "5\n"
     ]
    }
   ],
   "source": [
    "func1(1, 5)"
   ]
  },
  {
   "cell_type": "code",
   "execution_count": 22,
   "id": "d859ba27",
   "metadata": {},
   "outputs": [
    {
     "ename": "TypeError",
     "evalue": "func1() missing 1 required positional argument: 'x1'",
     "output_type": "error",
     "traceback": [
      "\u001b[1;31m---------------------------------------------------------------------------\u001b[0m",
      "\u001b[1;31mTypeError\u001b[0m                                 Traceback (most recent call last)",
      "\u001b[1;32m<ipython-input-22-d88c41ef3303>\u001b[0m in \u001b[0;36m<module>\u001b[1;34m\u001b[0m\n\u001b[1;32m----> 1\u001b[1;33m \u001b[0mfunc1\u001b[0m\u001b[1;33m(\u001b[0m\u001b[1;33m)\u001b[0m\u001b[1;33m\u001b[0m\u001b[1;33m\u001b[0m\u001b[0m\n\u001b[0m",
      "\u001b[1;31mTypeError\u001b[0m: func1() missing 1 required positional argument: 'x1'"
     ]
    }
   ],
   "source": [
    "func1()"
   ]
  },
  {
   "cell_type": "code",
   "execution_count": 23,
   "id": "779b7457",
   "metadata": {},
   "outputs": [
    {
     "ename": "TypeError",
     "evalue": "func1() takes from 1 to 2 positional arguments but 3 were given",
     "output_type": "error",
     "traceback": [
      "\u001b[1;31m---------------------------------------------------------------------------\u001b[0m",
      "\u001b[1;31mTypeError\u001b[0m                                 Traceback (most recent call last)",
      "\u001b[1;32m<ipython-input-23-9b21df56cb86>\u001b[0m in \u001b[0;36m<module>\u001b[1;34m\u001b[0m\n\u001b[1;32m----> 1\u001b[1;33m \u001b[0mfunc1\u001b[0m\u001b[1;33m(\u001b[0m\u001b[1;36m1\u001b[0m\u001b[1;33m,\u001b[0m\u001b[1;36m5\u001b[0m\u001b[1;33m,\u001b[0m\u001b[1;36m6\u001b[0m\u001b[1;33m)\u001b[0m\u001b[1;33m\u001b[0m\u001b[1;33m\u001b[0m\u001b[0m\n\u001b[0m",
      "\u001b[1;31mTypeError\u001b[0m: func1() takes from 1 to 2 positional arguments but 3 were given"
     ]
    }
   ],
   "source": [
    "func1(1,5,6)"
   ]
  },
  {
   "cell_type": "code",
   "execution_count": 24,
   "id": "eb82e528",
   "metadata": {},
   "outputs": [],
   "source": [
    "def func2(*args):\n",
    "    for value in args:\n",
    "        print(value)"
   ]
  },
  {
   "cell_type": "code",
   "execution_count": 25,
   "id": "db82466a",
   "metadata": {},
   "outputs": [
    {
     "name": "stdout",
     "output_type": "stream",
     "text": [
      "1\n",
      "2\n",
      "3\n"
     ]
    }
   ],
   "source": [
    " func2(1,2,3)"
   ]
  },
  {
   "cell_type": "code",
   "execution_count": 26,
   "id": "655bb8ea",
   "metadata": {},
   "outputs": [
    {
     "name": "stdout",
     "output_type": "stream",
     "text": [
      "1\n",
      "2\n",
      "3\n",
      "4\n",
      "5\n"
     ]
    }
   ],
   "source": [
    "func2(1,2,3,4,5)"
   ]
  },
  {
   "cell_type": "code",
   "execution_count": 27,
   "id": "541231c4",
   "metadata": {},
   "outputs": [
    {
     "name": "stdout",
     "output_type": "stream",
     "text": [
      "1\n",
      "2\n",
      "3\n",
      "4\n",
      "5\n",
      "4757\n",
      "5858\n",
      "4995\n",
      "10100\n"
     ]
    }
   ],
   "source": [
    "func2(1,2,3,4,5,4757,5858,4995,10100)"
   ]
  },
  {
   "cell_type": "markdown",
   "id": "5aae2439",
   "metadata": {},
   "source": [
    "## Lambda functions/Expressions"
   ]
  },
  {
   "cell_type": "code",
   "execution_count": 82,
   "id": "a4600c68",
   "metadata": {},
   "outputs": [],
   "source": [
    "def cuber(x):\n",
    "    return x**3"
   ]
  },
  {
   "cell_type": "code",
   "execution_count": 83,
   "id": "6af37e53",
   "metadata": {},
   "outputs": [],
   "source": [
    "cuber = lambda x : x**3"
   ]
  },
  {
   "cell_type": "code",
   "execution_count": 84,
   "id": "b3705b69",
   "metadata": {},
   "outputs": [
    {
     "data": {
      "text/plain": [
       "27"
      ]
     },
     "execution_count": 84,
     "metadata": {},
     "output_type": "execute_result"
    }
   ],
   "source": [
    "cuber(3)"
   ]
  },
  {
   "cell_type": "code",
   "execution_count": 87,
   "id": "60479f34",
   "metadata": {},
   "outputs": [
    {
     "data": {
      "text/plain": [
       "30000"
      ]
     },
     "execution_count": 87,
     "metadata": {},
     "output_type": "execute_result"
    }
   ],
   "source": [
    "rho = 1000 #kg/m3\n",
    "g = 10 #m/s2\n",
    "P_hyd = lambda h : rho*g*h\n",
    "\n",
    "P_hyd(3)"
   ]
  },
  {
   "cell_type": "code",
   "execution_count": 88,
   "id": "0f85874f",
   "metadata": {},
   "outputs": [
    {
     "data": {
      "text/plain": [
       "4"
      ]
     },
     "execution_count": 88,
     "metadata": {},
     "output_type": "execute_result"
    }
   ],
   "source": [
    "x = 1\n",
    "y = 2\n",
    "Nil = lambda z : x*y*z\n",
    "Nil(2)"
   ]
  },
  {
   "cell_type": "code",
   "execution_count": 91,
   "id": "b4ec3e0c",
   "metadata": {},
   "outputs": [
    {
     "data": {
      "text/plain": [
       "10.0"
      ]
     },
     "execution_count": 91,
     "metadata": {},
     "output_type": "execute_result"
    }
   ],
   "source": [
    "API = lambda SG : 141.5/SG - 131.5\n",
    "API(1)"
   ]
  },
  {
   "cell_type": "markdown",
   "id": "0290ad2c",
   "metadata": {},
   "source": [
    "## Newton Rapson Method (N-R-M)"
   ]
  },
  {
   "cell_type": "code",
   "execution_count": null,
   "id": "1ab2bde8",
   "metadata": {},
   "outputs": [],
   "source": [
    "n = float(input('Hey, Enter your Number to be Square-Rooted'))\n",
    "\n",
    "# print(n)\n",
    "\n",
    "x_0 = float(input('Hey, Enter your Initial Guess of the Root : '))\n",
    "\n",
    "\n",
    "x = x_0\n",
    "count = 0\n",
    "while  (abs(x**2 - n)>0.00000001) :\n",
    "    x = x - ((x**2 - n)/(2*x))\n",
    "    count = count + 1\n",
    "    \n",
    "\n",
    "print(f\"\\n \\n Result: The square root of {n} is {x}\")\n",
    "print(f\"\\n \\n The Actual Square Root of {n} is {n**0.5}\")\n",
    "print(f'\\n The num of iterations used = {count}')"
   ]
  },
  {
   "cell_type": "code",
   "execution_count": null,
   "id": "b701a5d7",
   "metadata": {},
   "outputs": [],
   "source": []
  }
 ],
 "metadata": {
  "kernelspec": {
   "display_name": "Python 3",
   "language": "python",
   "name": "python3"
  },
  "language_info": {
   "codemirror_mode": {
    "name": "ipython",
    "version": 3
   },
   "file_extension": ".py",
   "mimetype": "text/x-python",
   "name": "python",
   "nbconvert_exporter": "python",
   "pygments_lexer": "ipython3",
   "version": "3.8.8"
  }
 },
 "nbformat": 4,
 "nbformat_minor": 5
}
